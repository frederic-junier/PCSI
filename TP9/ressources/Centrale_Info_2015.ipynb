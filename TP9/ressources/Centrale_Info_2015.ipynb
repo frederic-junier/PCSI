{
 "cells": [
  {
   "cell_type": "code",
   "execution_count": 1,
   "metadata": {
    "collapsed": true
   },
   "outputs": [],
   "source": [
    "import numpy as np\n",
    "import matplotlib.pyplot as plt\n",
    "import math"
   ]
  },
  {
   "cell_type": "code",
   "execution_count": 2,
   "metadata": {
    "collapsed": true
   },
   "outputs": [],
   "source": [
    "% matplotlib inline"
   ]
  },
  {
   "cell_type": "markdown",
   "metadata": {},
   "source": [
    "# Quelques fonctions utilitaires"
   ]
  },
  {
   "cell_type": "markdown",
   "metadata": {},
   "source": [
    "## I A"
   ]
  },
  {
   "cell_type": "code",
   "execution_count": 3,
   "metadata": {
    "collapsed": false
   },
   "outputs": [
    {
     "data": {
      "text/plain": [
       "[1, 2, 3, 4, 5, 6]"
      ]
     },
     "execution_count": 3,
     "metadata": {},
     "output_type": "execute_result"
    }
   ],
   "source": [
    "[1,2,3] + [4,5,6]"
   ]
  },
  {
   "cell_type": "code",
   "execution_count": 4,
   "metadata": {
    "collapsed": false
   },
   "outputs": [
    {
     "data": {
      "text/plain": [
       "[1, 2, 3, 1, 2, 3]"
      ]
     },
     "execution_count": 4,
     "metadata": {},
     "output_type": "execute_result"
    }
   ],
   "source": [
    "2*[1, 2, 3]"
   ]
  },
  {
   "cell_type": "markdown",
   "metadata": {},
   "source": [
    "## I B"
   ]
  },
  {
   "cell_type": "code",
   "execution_count": 5,
   "metadata": {
    "collapsed": true
   },
   "outputs": [],
   "source": [
    "def smul(k, t):\n",
    "    return [k*e for e in t]"
   ]
  },
  {
   "cell_type": "code",
   "execution_count": 6,
   "metadata": {
    "collapsed": false
   },
   "outputs": [
    {
     "data": {
      "text/plain": [
       "[2, 4, 6]"
      ]
     },
     "execution_count": 6,
     "metadata": {},
     "output_type": "execute_result"
    }
   ],
   "source": [
    "smul(2, [1,2,3])"
   ]
  },
  {
   "cell_type": "markdown",
   "metadata": {},
   "source": [
    "## I C"
   ]
  },
  {
   "cell_type": "code",
   "execution_count": 7,
   "metadata": {
    "collapsed": true
   },
   "outputs": [],
   "source": [
    "def vsom(t1, t2):\n",
    "    return [e1 + e2 for (e1, e2) in zip(t1, t2)]"
   ]
  },
  {
   "cell_type": "code",
   "execution_count": 8,
   "metadata": {
    "collapsed": false
   },
   "outputs": [
    {
     "data": {
      "text/plain": [
       "[5, 7, 9]"
      ]
     },
     "execution_count": 8,
     "metadata": {},
     "output_type": "execute_result"
    }
   ],
   "source": [
    "vsom([1,2,3], [4,5,6])"
   ]
  },
  {
   "cell_type": "code",
   "execution_count": 9,
   "metadata": {
    "collapsed": true
   },
   "outputs": [],
   "source": [
    "def vdiff(t1, t2):\n",
    "    return [e1 - e2 for (e1, e2) in zip(t1, t2)]"
   ]
  },
  {
   "cell_type": "code",
   "execution_count": 10,
   "metadata": {
    "collapsed": false
   },
   "outputs": [
    {
     "data": {
      "text/plain": [
       "[-3, -3, -3]"
      ]
     },
     "execution_count": 10,
     "metadata": {},
     "output_type": "execute_result"
    }
   ],
   "source": [
    "vdiff([1,2,3], [4,5,6])"
   ]
  },
  {
   "cell_type": "markdown",
   "metadata": {},
   "source": [
    "# Étude de schémas numériques"
   ]
  },
  {
   "cell_type": "markdown",
   "metadata": {},
   "source": [
    "## II A Mise en forme du problème"
   ]
  },
  {
   "cell_type": "markdown",
   "metadata": {},
   "source": [
    "$(S)\\begin{cases}  y'(t) = z(t) \\\\ z'(t) = f(y(t)) \\end{cases}$"
   ]
  },
  {
   "cell_type": "markdown",
   "metadata": {},
   "source": [
    "\\begin{align*}\n",
    "y(t_{i+1}) - y(t_{i}) &= \\int_{t_{i}}^{t_{i+1}} \\, y'(t) \\, \\text{d}t \\\\\n",
    "y(t_{i+1}) - y(t_{i}) &= \\int_{t_{i}}^{t_{i+1}} \\, z(t) \\, \\text{d}t\n",
    "\\end{align*}"
   ]
  },
  {
   "cell_type": "markdown",
   "metadata": {},
   "source": [
    "\\begin{align*}\n",
    "z(t_{i+1}) - z(t_{i}) &= \\int_{t_{i}}^{t_{i+1}} \\, z'(t) \\, \\text{d}t \\\\\n",
    "z(t_{i+1}) - z(t_{i}) &= \\int_{t_{i}}^{t_{i+1}} \\, y''(t) \\, \\text{d}t \\\\\n",
    "z(t_{i+1}) - z(t_{i}) &= \\int_{t_{i}}^{t_{i+1}} \\, f(y(t)) \\, \\text{d}t \n",
    "\\end{align*}"
   ]
  },
  {
   "cell_type": "markdown",
   "metadata": {},
   "source": [
    "## II B Schéma d'Euler explicite"
   ]
  },
  {
   "cell_type": "markdown",
   "metadata": {},
   "source": [
    "$\\begin{cases}\n",
    "y_{0} = y(t_{min}) \\\\\n",
    "y_ {i+1}=y_{i}+hz_{i}\n",
    "\\end{cases}\n",
    "$"
   ]
  },
  {
   "cell_type": "markdown",
   "metadata": {},
   "source": [
    "$\\begin{cases}\n",
    "z_{0} = y'(t_{min}) \\\\\n",
    "z_ {i+1}=z_{i}+hf(y_{i})\n",
    "\\end{cases}\n",
    "$"
   ]
  },
  {
   "cell_type": "code",
   "execution_count": 11,
   "metadata": {
    "collapsed": true
   },
   "outputs": [],
   "source": [
    "def euler(f, n , tmin, tmax, ytmin, yptmin):\n",
    "    h  = (tmax - tmin)/(n - 1)\n",
    "    ypreced = ytmin\n",
    "    zpreced = yptmin\n",
    "    yy = [ypreced]\n",
    "    zz = [zpreced]\n",
    "    for k in range(n - 1):\n",
    "        (ynouveau, znouveau) = (ypreced + h*zpreced, zpreced + h*f(ypreced))\n",
    "        yy.append(ynouveau)\n",
    "        zz.append(znouveau)\n",
    "        (ypreced, zpreced) = (ynouveau, znouveau)\n",
    "    return (yy, zz)"
   ]
  },
  {
   "cell_type": "markdown",
   "metadata": {},
   "source": [
    "On considère l'équation différentielle :\n",
    "\\begin{equation*}\n",
    "y''(t) = - \\omega^2y(t)\n",
    "\\end{equation*}"
   ]
  },
  {
   "cell_type": "markdown",
   "metadata": {},
   "source": [
    "On en déduit que :\n",
    "\\begin{equation*}\n",
    "(y'(t))^{2}+\\omega^{2}y^{2}(t)=E=(y'(0))^{2}+\\omega^{2}y^{2}(0)\n",
    "\\end{equation*}"
   ]
  },
  {
   "cell_type": "markdown",
   "metadata": {},
   "source": [
    "\\begin{align*}\n",
    "E_{i+1}-E_{i} &= z_{i+1}^{2}+ \\omega^{2}y_{i+1}^{2} - z_{i}^{2}- \\omega^{2}y_{i}^{2} \\\\\n",
    "E_{i+1}-E_{i} &= (z_{i}-h\\omega^{2}y_{i})^{2}+ \\omega^{2}(y_{i}+hz_{i})^{2} - z_{i}^{2}- \\omega^{2}y_{i}^{2} \\\\\n",
    "E_{i+1}-E_{i} &= -2hz_{i}\\omega^{2}y_{i}+h^{2}\\omega^{4}y_{i}^{2}+ 2 \\omega^{2}hy_{i}z_{i}+\\omega^{2}h^{2}z_{i}^{2} \\\\\n",
    "E_{i+1}-E_{i} &= h^{2}\\omega^{2} (z_{i}^{2} + \\omega^{2}y_{i}^{2}) \\\\\n",
    "E_{i+1}-E_{i} &= h^{2}\\omega^{2} E_{i}^{2}\n",
    "\\end{align*}"
   ]
  },
  {
   "cell_type": "markdown",
   "metadata": {},
   "source": [
    " Un schéma numérique qui satisfait à la conservation de $E$ serait tel que pour tout $i \\in J_{n}, \\, E_{i+1}-E_{i}=0$.\n",
    " \n",
    " Pour le schéma d'Euler explicite, c'est impossible car on aurait pour tout $i \\in J_{n}$, $E_{i}=0$ d'après l'égalité précédente c'est-à-dire $y_{i}=0$ et $z_{i}=0$, ce qui est absurde.\n",
    " \n",
    " En portant les valeurs d $y_{i}$ sur l'axe des abscisses et de $z_{i}$ sur l'axe des ordonnées, le graphe d'un schéma respectant la conservation de $E$ serait tel que $z(t)^2+\\omega^{2}y^{2}(t)=E$ et ce serait l'équation d'une ellipse. "
   ]
  },
  {
   "cell_type": "code",
   "execution_count": 24,
   "metadata": {
    "collapsed": false
   },
   "outputs": [
    {
     "name": "stdout",
     "output_type": "stream",
     "text": [
      "[13.933084621185467, 15.745054071756226, 17.051921471645617] [59.79499186883504, 43.12662419634988, 24.290569049441377]\n"
     ]
    }
   ],
   "source": [
    "yy, zz = euler(lambda y : -(2*np.pi)**2*y, 100, 0, 3, 3, 0)\n",
    "print(yy[-3:], zz[-3:])"
   ]
  },
  {
   "cell_type": "code",
   "execution_count": 28,
   "metadata": {
    "collapsed": false
   },
   "outputs": [
    {
     "data": {
      "text/plain": [
       "<matplotlib.text.Text at 0x7fc75f2226d8>"
      ]
     },
     "execution_count": 28,
     "metadata": {},
     "output_type": "execute_result"
    },
    {
     "data": {
      "image/png": "[encoded data removed]",
      "text/plain": [
       "<matplotlib.figure.Figure at 0x7fc75f390b70>"
      ]
     },
     "metadata": {},
     "output_type": "display_data"
    }
   ],
   "source": [
    "plt.plot(yy, zz, marker='o')\n",
    "plt.xlabel(r'$y$', fontsize=20)\n",
    "plt.ylabel(r'$z$', fontsize=20)"
   ]
  },
  {
   "cell_type": "markdown",
   "metadata": {},
   "source": [
    "Des relations de récurrence :\n",
    "\n",
    "$\\begin{cases}\n",
    "y_{0} = y(t_{min}) \\\\\n",
    "y_ {i+1}=y_{i}+hz_{i}\n",
    "\\end{cases}\n",
    "$\n",
    "\n",
    "et\n",
    "\n",
    "$\\begin{cases}\n",
    "z_{0} = y'(t_{min}) \\\\\n",
    "z_ {i+1}=z_{i}-h\\omega^{2}y_{i}\n",
    "\\end{cases}\n",
    "$\n",
    "\n",
    "on déduit que  $y_{i}>0 \\Leftrightarrow z_{i+1}<z_{i}$ et  $z_{i}>0 \\Leftrightarrow y_{i+1} > y_{i}$, ce qui explique la périodicité du graphe qui est en spirale.\n",
    "\n",
    "Par ailleurs $E_{i+1}-E_{i} = h^{2}\\omega^{2} E_{i}^{2}$ avec $E_{i}>0$ par conséquent la suite $(E_{i})$ est strictement croissante ainsi la suite $(z_{i}^2+\\omega^{2}y_{i}^{2})$ est strictement croissante ce qui se traduit par une divergence de la spirale (la ditance du  point de coordonnées $(\\omega y_{i}, z_{i})$ à l'origine tend vers $+\\infty$ donc celle de $(y_{i}, z_{i})$ à l'origine tend vers $+\\infty$ également puisque la multiplication par $\\omega$ de $y_{i}$ correspond simplement à une dilatation selon l'axe des abscisses).\n",
    "De plus lorsque $y'(t_{i}) \\approx z_{i}$ est positif alors $y_{i} \\approx y(t_{i})$ augmente et lorsque $y'(t_{i}) \\approx z_{i}$ est négatif alors $y_{i} \\approx y(t_{i})$ diminue."
   ]
  },
  {
   "cell_type": "markdown",
   "metadata": {},
   "source": [
    "## II C Schéma de Verlet"
   ]
  },
  {
   "cell_type": "markdown",
   "metadata": {},
   "source": [
    "\\begin{equation*}\n",
    "y_{i+1}=y_{i}+hz_{i}+\\frac{h^2}{2}f_{i} \\text{ avec } f_{i}=f(y_{i})\n",
    "\\end{equation*}"
   ]
  },
  {
   "cell_type": "markdown",
   "metadata": {},
   "source": [
    "\\begin{equation*}\n",
    "y_{i+1}=y_{i}(1-\\frac{\\omega^{2}h^2}{2})+hz_{i}\n",
    "\\end{equation*}"
   ]
  },
  {
   "cell_type": "markdown",
   "metadata": {},
   "source": [
    "\\begin{equation*}\n",
    "z_{i+1}=z_{i}-\\frac{h\\omega^{2}}{2}(y_{i} + y_{i+1}) \\end{equation*}"
   ]
  },
  {
   "cell_type": "markdown",
   "metadata": {},
   "source": [
    "\\begin{equation*}\n",
    "z_{i+1}=z_{i}-\\frac{h\\omega^{2}}{2}(y_{i}(2-\\frac{\\omega^{2}h^2}{2})+hz_{i}) \\end{equation*}"
   ]
  },
  {
   "cell_type": "code",
   "execution_count": 13,
   "metadata": {
    "collapsed": true
   },
   "outputs": [],
   "source": [
    "def verlet(f, n , tmin, tmax, ytmin, yptmin):\n",
    "    h  = (tmax - tmin)/(n - 1)\n",
    "    ypreced = ytmin\n",
    "    zpreced = yptmin\n",
    "    fpreced = f(ypreced)\n",
    "    yy = [ypreced]\n",
    "    zz = [zpreced]\n",
    "    for k in range(n - 1):\n",
    "        ynouveau = ypreced + h*zpreced + h**2/2*fpreced\n",
    "        fnouveau = f(ynouveau)\n",
    "        znouveau = zpreced + h/2*(fnouveau + fpreced)\n",
    "        yy.append(ynouveau)\n",
    "        zz.append(znouveau)\n",
    "        (ypreced, zpreced, fpreced) = (ynouveau, znouveau, fnouveau)\n",
    "    return (yy, zz)"
   ]
  },
  {
   "cell_type": "code",
   "execution_count": 29,
   "metadata": {
    "collapsed": false
   },
   "outputs": [
    {
     "name": "stdout",
     "output_type": "stream",
     "text": [
      "[2.8152395363671467, 2.9606719372849324, 2.998774087394971] [6.483226837453586, 3.028320091959096, -0.5363692846006165]\n"
     ]
    }
   ],
   "source": [
    "yy, zz = verlet(lambda y : -(2*np.pi)**2*y, 100, 0, 3, 3, 0)\n",
    "print(yy[-3:], zz[-3:])"
   ]
  },
  {
   "cell_type": "code",
   "execution_count": 30,
   "metadata": {
    "collapsed": false
   },
   "outputs": [
    {
     "data": {
      "text/plain": [
       "<matplotlib.text.Text at 0x7fc75f0767f0>"
      ]
     },
     "execution_count": 30,
     "metadata": {},
     "output_type": "execute_result"
    },
    {
     "data": {
      "image/png": "[encoded data removed]",
      "text/plain": [
       "<matplotlib.figure.Figure at 0x7fc75f253278>"
      ]
     },
     "metadata": {},
     "output_type": "display_data"
    }
   ],
   "source": [
    "plt.plot(yy, zz, marker='o')\n",
    "plt.xlabel(r'$y$', fontsize=20)\n",
    "plt.ylabel(r'$z$', fontsize=20)"
   ]
  },
  {
   "cell_type": "markdown",
   "metadata": {},
   "source": [
    "Dans le schéma de Verlet on a :\n",
    "\n",
    "\n",
    "\\begin{align*}\n",
    "E_{i+1}-E_{i} &= z_{i+1}^{2}+ \\omega^{2}y_{i+1}^{2} - z_{i}^{2}- \\omega^{2}y_{i}^{2} \\\\\n",
    "E_{i+1}-E_{i} &= (z_{i}-\\frac{h\\omega^{2}}{2}(y_{i}(2-\\frac{\\omega^{2}h^2}{2})+hz_{i}))^2 + \\omega^{2} (y_{i}(1-\\frac{\\omega^{2}h^2}{2})+hz_{i})^2 -z_{i}^{2}- \\omega^{2}y_{i}^{2}\\\\\n",
    "E_{i+1}-E_{i} &= (z_{i}(1-\\frac{h^2\\omega^2}{2})+y_{i}(\\frac{\\omega^{4}h^3}{4}-h\\omega^{2}))^2 + \\omega^{2} (y_{i}(1-\\frac{\\omega^{2}h^2}{2})+hz_{i})^2 -z_{i}^{2}- \\omega^{2}y_{i}^{2}\\\\\n",
    "E_{i+1}-E_{i} &=-\\frac{1}{4}y_{i}^{2}h^4\\omega^{6} + y_{i}^{2}h^{6}\\frac{\\omega^8}{16}+z_{i}^2h^{4}\\frac{\\omega^{4}}{4}+2z_{i}y_{i}(1-\\frac{h^2\\omega^{2}}{2})\\frac{\\omega^{4}h^{3}}{4}\n",
    "\\end{align*}\n",
    "\n",
    "On en déduit que pour le schéma de Verlet on a pour tout $i \\in J_{n}, \\, E_{i+1}-E_{i}=O(h^3)$\n",
    "    "
   ]
  },
  {
   "cell_type": "markdown",
   "metadata": {},
   "source": [
    "Le graphe du schéma numérique de Verlet est beaucoup plus proche de l'ellipse attendue, d'équation $(y'(t))^{2}+\\omega^{2}y^{2}(t)=E$, qui traduit la conservation de l'énergie pour la solution théorique de l'équation différentielle $\\forall t \\in I, \\, y''(t)=-\\omega^{2}y(t)$.\n",
    "\n",
    "On en déduit que le schéma de Verlet traduit la mieux la conservation de l'énergie que le schéma d'Euler (car pour tout $i \\in J_{n}, \\, E_{i+1}-E_{i}=O(h^3)$) et que c'est un schéma d'intégration plus précis."
   ]
  },
  {
   "cell_type": "markdown",
   "metadata": {},
   "source": [
    "# Problème à $N$ corps"
   ]
  },
  {
   "cell_type": "markdown",
   "metadata": {},
   "source": [
    "## III Position du problème"
   ]
  },
  {
   "cell_type": "markdown",
   "metadata": {},
   "source": [
    "Force exercée sur le corps $P_{j}$ par l'ensemble des autres corps $P_{k}$ avec $k \\neq j$"
   ]
  },
  {
   "cell_type": "markdown",
   "metadata": {},
   "source": [
    "\\begin{align*}\n",
    "\\overrightarrow{F_{j}} &= \\sum_{k\\neq j}\\overrightarrow{F_{k/j}} \\\\\n",
    "\\overrightarrow{F_{j}} &= \\sum_{k\\neq j}G\\frac{m_{j}m_{k}}{r_{jk}^{3}}\\overrightarrow{P_{j}P_{k}}\n",
    "\\end{align*}"
   ]
  },
  {
   "cell_type": "code",
   "execution_count": 15,
   "metadata": {
    "collapsed": false
   },
   "outputs": [],
   "source": [
    "G = 6.67*10**(-11)\n",
    "\n",
    "def vect(p1, p2):\n",
    "    return [c2 - c1 for (c1, c2) in zip((p1, p2))]\n",
    "\n",
    "def msvect(k, vect):\n",
    "    return [k*c for c in vect]\n",
    "\n",
    "def norme_euclidienne(v):\n",
    "    return math.sqrt([c**2 for c in v])\n",
    "\n",
    "def force2(m1, p1, m2, p2):\n",
    "    v12 = vect(p1, p2)\n",
    "    n12 = norme_euclidienne(v12)\n",
    "    k = G*m1*m2/n12**3\n",
    "    return msvect(k, v12)\n",
    "    "
   ]
  },
  {
   "cell_type": "code",
   "execution_count": 16,
   "metadata": {
    "collapsed": true
   },
   "outputs": [],
   "source": [
    "def somme_vect(v1, v2):\n",
    "    \"\"\"Retourne la somme de deux vecteurs\"\"\"\n",
    "    return [e1 + e2 for (e1, e2) in zip(v1, v2)]\n",
    "\n",
    "def somme_list_vect(listvect):\n",
    "    \"\"\"Retourne la somme d'une liste de vecteurs\"\"\"\n",
    "    if len(listvect) == 1:\n",
    "        return listvect[0]\n",
    "    dernier = listvect.pop()\n",
    "    listvect[-1] = somme_vect(listvect[-1], dernier)\n",
    "    return somme_list_vect(listvect)\n",
    "\n",
    "def forceN(j, m, pos):\n",
    "    \"\"\"Prend en parametre l'indice j du corps sur lequel s'exerce\n",
    "    la force, la liste m des masses des N corps, la liste pos des positions\n",
    "    et retourne le vecteur force Fj exercé par tous les autres corps\n",
    "    sur le corps j\"\"\"\n",
    "    (mj, pj) = (m[j], pos[j])\n",
    "    ff = [force2(mj, pj, mk, pk) for (mk, pk) in zip(m, pos) if k != j]\n",
    "    return somme_list_vect(ff)"
   ]
  },
  {
   "cell_type": "code",
   "execution_count": 17,
   "metadata": {
    "collapsed": false
   },
   "outputs": [
    {
     "data": {
      "text/plain": [
       "[-3, 8, 10]"
      ]
     },
     "execution_count": 17,
     "metadata": {},
     "output_type": "execute_result"
    }
   ],
   "source": [
    "somme_list_vect([[0,1,2],[-1,4,5],[-2,3,3]])"
   ]
  },
  {
   "cell_type": "markdown",
   "metadata": {},
   "source": [
    "## Approche numérique"
   ]
  },
  {
   "cell_type": "markdown",
   "metadata": {},
   "source": [
    "`position[i]` est une liste de  $N$ listes à 3 éléments représentant les composantes des vecteurs de position des $N$ objets à l'instant `j`.\n",
    "\n",
    "`vitess[i]` est une liste de  $N$ listes à 3 éléments représentant les composantes des vecteurs de vitess des $N$ objets à l'instant `i`.\n"
   ]
  },
  {
   "cell_type": "markdown",
   "metadata": {},
   "source": [
    "On note $\\overrightarrow{P(t)}(x(t), y(t), z(t))$ le vecteur position d'un corps $j$ de massse $m_{j}$  à l'instant t\n",
    "\n",
    " $\\overrightarrow{P_{j}(t)}$ vérifie l'équation différentielle du second ordre :\n",
    " \n",
    "\\begin{equation*}\n",
    " m_{j}\\overrightarrow{P_{j}}''(t)=\\overrightarrow{F_{j}}(t)\n",
    "\\end{equation*}\n",
    "\n",
    "La fonction $f: y(t) \\mapsto f(y(t))$ du schéma de Verlet est  :\n",
    "\n",
    "\\begin{equation*}\n",
    "t \\mapsto \\frac{1}{m_{j}}\\overrightarrow{F_{j}}(t)\n",
    "\\end{equation*}"
   ]
  },
  {
   "cell_type": "code",
   "execution_count": 18,
   "metadata": {
    "collapsed": true
   },
   "outputs": [],
   "source": [
    "def pos_suiv(m, pos, vit, h):\n",
    "    \"\"\"Retourne la liste des positions des N corps  à l'instant suivant\n",
    "    en utilisant le schéma de Verlet.\n",
    "    Variante par rapport à celle demandée dans l'énoncé.\"\"\"\n",
    "    fpreced = [0]*N\n",
    "    for j in range(N):\n",
    "        (mj, pj, vj) = (m[j], pos[j], vit[j])\n",
    "        fj = msvect(1/mj, forceN(j, m, pos))\n",
    "        pos[j] = [ pjc + h*vjc + h**2/2*fjc for (pjc, vjc, fjc) in zip(pj, vj, fj)]\n",
    "    return (pos, frepreced)"
   ]
  },
  {
   "cell_type": "code",
   "execution_count": 19,
   "metadata": {
    "collapsed": false
   },
   "outputs": [],
   "source": [
    "def etat_suiv(m, pos, vit, h):\n",
    "    \"\"\"Retourne les listes des positions et des vitesses des N corps  à l'instant suivant\n",
    "    en utilisant le schéma de Verlet.\"\"\"\n",
    "    fpreced = [0]*N\n",
    "    for j in range(N):\n",
    "        (mj, pj, vj) = (m[j], pos[j], vit[j])\n",
    "        fj = msvect(mj, forceN(j, m, pos))\n",
    "        pos[j] = [ pjc + h*vjc + h**2/2*fjc for (pjc, vjc, fjc) in zip(pj, vj, fj)]\n",
    "        fpreced[j] = fj\n",
    "    #attention on utilise f(j+1) dans le calcul de z(i+1) la vitesse\n",
    "    # à l'instant suivant qui dépend des valeurs des positions \n",
    "    # à l'instant j + 1 des N corps\n",
    "    for j in range(N):\n",
    "        fj2 = msvect(1/mj, forceN(j, m, pos))\n",
    "        vit[j] = vit[j] + h/2*(fpreced[j] + fj2)\n",
    "    return (pos, vit)\n",
    "\n",
    "def etat_suiv2(m, pos, vit, h):\n",
    "    \"\"\"Retourne les listes des positions et des vitesses des N corps  à l'instant suivant\n",
    "    en utilisant le schéma de Verlet.\"\"\"\n",
    "    (pos, fpreced) = pos_suiv(m, pos, vit, h)\n",
    "    #attention on utilise f(j+1) dans le calcul de z(i+1) la vitesse\n",
    "    # à l'instant suivant qui dépend des valeurs des positions \n",
    "    # à l'instant j + 1 des N corps\n",
    "    for j in range(N):\n",
    "        fj2 = msvect(1/mj, forceN(j, m, pos))\n",
    "        vit[j] = vit[j] + h/2*(fpreced[j] + fj2)\n",
    "    return (pos, vit)"
   ]
  },
  {
   "cell_type": "markdown",
   "metadata": {},
   "source": [
    "D'après le graphique on peut conjecturer que :\n",
    "\\begin{equation*}\n",
    "\\ln(\\tau_{N})=2 \\ln(N) + b\n",
    "\\end{equation*}"
   ]
  },
  {
   "cell_type": "markdown",
   "metadata": {},
   "source": [
    "On peut donc conjecturer que la complexité temporelle de la fonction `eta_suiv` est quadratique :\n",
    "\\begin{equation*}\n",
    " \\tau_{N}=\\text{e}^{b}N^{2}   \n",
    "\\end{equation*}"
   ]
  },
  {
   "cell_type": "markdown",
   "metadata": {},
   "source": [
    "La complexité temporelle de la fonction `etat_suiv` est en $O(N^2)$ car elle comporte deux boucles de $N$ itérations avec dans chacune une boucle de $N -1$ itérations pour le calcul de la résultant des forces exercée par les $N-1$ autres corps.\n",
    "\n",
    "C'est cohérent avec le résulat obtenu à la question III.B.4"
   ]
  },
  {
   "cell_type": "markdown",
   "metadata": {},
   "source": [
    "# Exploitation d'une base de données"
   ]
  },
  {
   "cell_type": "markdown",
   "metadata": {},
   "source": [
    "Requête SQL qui renvoie la liste des masses de tous les corps étudiés :\n",
    "\n",
    "    SELECT masse FROM corps"
   ]
  },
  {
   "cell_type": "markdown",
   "metadata": {},
   "source": [
    "Requête SQL qui renvoie le nombre de corps qui ont au moins un état connu antérieur à tmin() :\n",
    "\n",
    "    SELECT COUNT(DISTINCT idcorps) FROM etat WHERE datem < tmin()"
   ]
  },
  {
   "cell_type": "markdown",
   "metadata": {},
   "source": [
    "Requête SQL qui renvoie, pour chaque corps, son identifiant et la date de son dernier état antérieur à tmin() :\n",
    "    \n",
    "    SELECT corps.id_corps, corps, MAX(datem)\n",
    "    FROM corps JOIN etat ON corps.id_corps = etat.id_corps\n",
    "    WHERE datem < tmin()\n",
    "    GROUP BY etat.id_corps\n",
    "  \n",
    "  "
   ]
  },
  {
   "cell_type": "markdown",
   "metadata": {},
   "source": [
    "Requête SQL qui renvoie la masse et l’état initial (sous la forme masse, x, y, z, vx, vy, vz) de\n",
    "chaque corps retenu pour participer à la simulation. Classez les corps dans l’ordre croissant par rapport à leur\n",
    "distance à l’origine du référentiel :\n",
    "\n",
    "    SELECT corps.id_corps, nom, masse, x, y, z, vx, vy, vz  FROM corps JOIN etat JOIN date_mesure ON corps.id_corps = etat.id_corps AND etat.id_corps = date_mesure.id_corps AND datem = date_der\n",
    "    WHERE masse >= masse_min() \n",
    "    AND ABS(x) < arete()/2\n",
    "    AND ABS(y) < arete()/2\n",
    "    AND ABS(z) < arete()/2\n",
    "    ORDER BY (x*x + y*y + z*z) ASC"
   ]
  },
  {
   "cell_type": "code",
   "execution_count": 20,
   "metadata": {
    "collapsed": false
   },
   "outputs": [],
   "source": [
    "#conversion d'une unité astronomique en m\n",
    "au = 1.5*10**11\n",
    "\n",
    "def simulation_verlet(p0, v0, masse, deltat, n):\n",
    "    #conversion des vitesses initiales de km/s en  m/s\n",
    "    vo = [msvect(10**3, v) for v in vo]\n",
    "    #conversion des positions d'unités astronomiques en metres\n",
    "    p0 = [msvect(au, p) for p in p0]\n",
    "    (pos, vit) = (p0, v0)\n",
    "    h = deltat\n",
    "    for k in range(n):\n",
    "        (pos, vit) = etat_suiv(masse, pos, vit, deltat)\n",
    "    return [msvect(1/au, p) for p in pos]"
   ]
  }
 ],
 "metadata": {
  "kernelspec": {
   "display_name": "Python 3",
   "language": "python",
   "name": "python3"
  },
  "language_info": {
   "codemirror_mode": {
    "name": "ipython",
    "version": 3
   },
   "file_extension": ".py",
   "mimetype": "text/x-python",
   "name": "python",
   "nbconvert_exporter": "python",
   "pygments_lexer": "ipython3",
   "version": "3.4.3"
  }
 },
 "nbformat": 4,
 "nbformat_minor": 0
}
