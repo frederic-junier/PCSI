{
 "cells": [
  {
   "cell_type": "code",
   "execution_count": 1,
   "metadata": {},
   "outputs": [],
   "source": [
    " %reload_ext sql"
   ]
  },
  {
   "cell_type": "code",
   "execution_count": 2,
   "metadata": {},
   "outputs": [],
   "source": [
    "%sql sqlite:///cinema843.db"
   ]
  },
  {
   "cell_type": "code",
   "execution_count": 3,
   "metadata": {},
   "outputs": [
    {
     "name": "stdout",
     "output_type": "stream",
     "text": [
      " * sqlite:///cinema843.db\n",
      "Done.\n"
     ]
    },
    {
     "data": {
      "text/html": [
       "<table>\n",
       "    <tr>\n",
       "        <th>idf</th>\n",
       "        <th>idr</th>\n",
       "        <th>titre</th>\n",
       "        <th>genre</th>\n",
       "        <th>annee</th>\n",
       "    </tr>\n",
       "    <tr>\n",
       "        <td>1</td>\n",
       "        <td>15</td>\n",
       "        <td>Crash</td>\n",
       "        <td>Drame</td>\n",
       "        <td>1996</td>\n",
       "    </tr>\n",
       "    <tr>\n",
       "        <td>3</td>\n",
       "        <td>14</td>\n",
       "        <td>Pulp Fiction</td>\n",
       "        <td>Policier</td>\n",
       "        <td>1994</td>\n",
       "    </tr>\n",
       "    <tr>\n",
       "        <td>4</td>\n",
       "        <td>13</td>\n",
       "        <td>Breaking the waves</td>\n",
       "        <td>Drame</td>\n",
       "        <td>1996</td>\n",
       "    </tr>\n",
       "    <tr>\n",
       "        <td>5</td>\n",
       "        <td>13</td>\n",
       "        <td>Dogville</td>\n",
       "        <td>Drame</td>\n",
       "        <td>2002</td>\n",
       "    </tr>\n",
       "    <tr>\n",
       "        <td>9</td>\n",
       "        <td>19</td>\n",
       "        <td>Minuit dans le jardin du bien et du mal</td>\n",
       "        <td>Policier</td>\n",
       "        <td>1998</td>\n",
       "    </tr>\n",
       "    <tr>\n",
       "        <td>10</td>\n",
       "        <td>21</td>\n",
       "        <td>American Beauty</td>\n",
       "        <td>Drame</td>\n",
       "        <td>1999</td>\n",
       "    </tr>\n",
       "    <tr>\n",
       "        <td>11</td>\n",
       "        <td>19</td>\n",
       "        <td>L&#x27;Echange</td>\n",
       "        <td>Drame</td>\n",
       "        <td>2008</td>\n",
       "    </tr>\n",
       "</table>"
      ],
      "text/plain": [
       "[(1, 15, 'Crash', 'Drame', 1996),\n",
       " (3, 14, 'Pulp Fiction', 'Policier', 1994),\n",
       " (4, 13, 'Breaking the waves', 'Drame', 1996),\n",
       " (5, 13, 'Dogville', 'Drame', 2002),\n",
       " (9, 19, 'Minuit dans le jardin du bien et du mal', 'Policier', 1998),\n",
       " (10, 21, 'American Beauty', 'Drame', 1999),\n",
       " (11, 19, \"L'Echange\", 'Drame', 2008)]"
      ]
     },
     "execution_count": 3,
     "metadata": {},
     "output_type": "execute_result"
    }
   ],
   "source": [
    "%%sql\n",
    "-- tous les films après 1992\n",
    "SELECT * FROM film WHERE annee >= 1992;"
   ]
  },
  {
   "cell_type": "code",
   "execution_count": null,
   "metadata": {},
   "outputs": [],
   "source": []
  }
 ],
 "metadata": {
  "kernelspec": {
   "display_name": "Python 3",
   "language": "python",
   "name": "python3"
  },
  "language_info": {
   "codemirror_mode": {
    "name": "ipython",
    "version": 3
   },
   "file_extension": ".py",
   "mimetype": "text/x-python",
   "name": "python",
   "nbconvert_exporter": "python",
   "pygments_lexer": "ipython3",
   "version": "3.6.9"
  }
 },
 "nbformat": 4,
 "nbformat_minor": 2
}
