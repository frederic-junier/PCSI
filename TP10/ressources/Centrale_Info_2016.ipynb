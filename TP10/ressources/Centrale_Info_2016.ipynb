{
 "cells": [
  {
   "cell_type": "code",
   "execution_count": 2,
   "metadata": {
    "collapsed": true
   },
   "outputs": [],
   "source": [
    "import numpy as np\n",
    "import matplotlib.pyplot as plt\n",
    "import random\n",
    "import math\n",
    "import time"
   ]
  },
  {
   "cell_type": "markdown",
   "metadata": {},
   "source": [
    "# Plan de vol"
   ]
  },
  {
   "cell_type": "raw",
   "metadata": {},
   "source": [
    "SELECT COUNT(*) \n",
    "FROM vol \n",
    "WHERE\n",
    "    jour = '2016-05-02' AND heure <= '12:00'"
   ]
  },
  {
   "cell_type": "raw",
   "metadata": {},
   "source": [
    "SELECT id_vol  \n",
    "FROM vol \n",
    "    JOIN aeroport ON arrivee = id_aero \n",
    "WHERE \n",
    "    ville = 'Paris' AND jour ='2016-05-02'"
   ]
  },
  {
   "cell_type": "raw",
   "metadata": {},
   "source": [
    "La requete suivante déterminer les numéros de vols d'un aéroport français vers un autre aéroport français avec départ le 02/05/2016 :\n",
    "\n",
    "SELECT id_vol\n",
    "FROM vol\n",
    "    JOIN aeroport AS d ON d.id_aero = depart\n",
    "    JOIN aeroport AS a ON a.id_aero = arrivee\n",
    "WHERE\n",
    "    d.pays = 'France' AND\n",
    "    a.pays = 'France' AND\n",
    "    jour = '2016-05-02'"
   ]
  },
  {
   "cell_type": "markdown",
   "metadata": {},
   "source": [
    "Certains vols peuvent engendrer des conflits potentiels : c’est par exemple le cas lorsque deux avions\n",
    "suivent un même trajet, en sens inverse, le même jour et à un même niveau. Écrire une requête SQL qui fournit\n",
    "la liste des couples (Id 1 , Id 2 ) des identifiants des vols dans cette situation.\n",
    "\n",
    "La requete suivante fonctionne mais retourne les couples (Id1, Id2) et (Id2, Id1)"
   ]
  },
  {
   "cell_type": "raw",
   "metadata": {},
   "source": [
    "SELECT v.id_vol, w.id_vol\n",
    "FROM vol AS v\n",
    "    JOIN vol AS w ON v.depart=w.arrivee AND v.arrivee=w.depart AND  v.jour=w.jour AND v.niveau=w.niveau   "
   ]
  },
  {
   "cell_type": "markdown",
   "metadata": {},
   "source": [
    "Il suffit d'ordonner le couple (Id1, Id2) pour dédoublonner"
   ]
  },
  {
   "cell_type": "raw",
   "metadata": {},
   "source": [
    "SELECT v.id_vol, w.id_vol\n",
    "FROM vol AS v\n",
    "    JOIN vol AS w ON v.depart=w.arrivee AND v.arrivee=w.depart AND  v.jour=w.jour AND v.niveau=w.niveau\n",
    "WHERE v.id_vol > w.id_vol"
   ]
  },
  {
   "cell_type": "markdown",
   "metadata": {},
   "source": [
    "# II Allocation des niveaux de vol"
   ]
  },
  {
   "cell_type": "code",
   "execution_count": 2,
   "metadata": {
    "collapsed": false
   },
   "outputs": [
    {
     "data": {
      "text/plain": [
       "array([[  0,   0,   0,  41, 399, 281, 357, 186, 229],\n",
       "       [  0,   0,   0, 497, 468, 174, 442, 249, 245],\n",
       "       [  0,   0,   0, 336, 215, 491, 243, 246,  30],\n",
       "       [ 41, 497, 336,   0,   0,   0, 340, 344,  20],\n",
       "       [399, 468, 215,   0,   0,   0, 371, 410, 124],\n",
       "       [281, 174, 491,   0,   0,   0, 367,  13, 352],\n",
       "       [357, 442, 243, 340, 371, 367,   0,   0,   0],\n",
       "       [186, 249, 246, 344, 410,  13,   0,   0,   0],\n",
       "       [229, 245,  30,  20, 124, 352,   0,   0,   0]])"
      ]
     },
     "execution_count": 2,
     "metadata": {},
     "output_type": "execute_result"
    }
   ],
   "source": [
    "#conflit est une variable globale\n",
    "\n",
    "n = 3\n",
    "conflit = np.random.randint(0, 501, size = (3*n, 3*n) )\n",
    "conflit = np.array([[i > j and conflit[j][i] or i < j and conflit[i][j] for j in range(3*n) ] for i in range(3*n) ])\n",
    "for i in range(0, len(conflit), 3):\n",
    "    conflit[i:i+3,i:i+3] = np.array([[0]*3 for _ in range(3)])\n",
    "conflit"
   ]
  },
  {
   "cell_type": "code",
   "execution_count": 51,
   "metadata": {
    "collapsed": true
   },
   "outputs": [],
   "source": [
    "conflit = [ [  0,  0,  0,100,100,  0,  0,150,  0],\n",
    "            [  0,  0,  0,  0,  0, 50,  0,  0,  0],\n",
    "            [  0,  0,  0,  0,200,  0,  0,300, 50],\n",
    "            [100,  0,  0,  0,  0,  0,400,  0,  0],\n",
    "            [100,  0,200,  0,  0,  0,200,  0,100],\n",
    "            [  0, 50,  0,  0,  0,  0,  0,  0,  0],            \n",
    "            [  0,  0,  0,400,200,  0,  0,  0,  0],            \n",
    "            [150,  0,300,  0,  0,  0,  0,  0,  0],            \n",
    "            [  0,  0, 50,  0,100,  0,  0,  0,  0] ]"
   ]
  },
  {
   "cell_type": "code",
   "execution_count": 4,
   "metadata": {
    "collapsed": false
   },
   "outputs": [],
   "source": [
    "def nb_conflits():\n",
    "    n = len(conflit)\n",
    "    nb = 0\n",
    "    for i in range(n - 1):\n",
    "        for j in range(i + 1, n):\n",
    "            if conflit[i][j] != 0:\n",
    "                nb += 1\n",
    "    return nb"
   ]
  },
  {
   "cell_type": "code",
   "execution_count": 5,
   "metadata": {
    "collapsed": false
   },
   "outputs": [
    {
     "data": {
      "text/plain": [
       "8"
      ]
     },
     "execution_count": 5,
     "metadata": {},
     "output_type": "execute_result"
    }
   ],
   "source": [
    "nb_conflits()"
   ]
  },
  {
   "cell_type": "markdown",
   "metadata": {},
   "source": [
    "Cette fonction est de complexité temporelle :\n",
    "\\begin{equation*}\n",
    "3n -1 + 3n- 2 + \\ldots + 1 = \\frac{(3n-1)3n}{2}=O(n^2)\n",
    "\\end{equation*}\n",
    "Il s'agit d'une complexité quadratique"
   ]
  },
  {
   "cell_type": "code",
   "execution_count": 52,
   "metadata": {
    "collapsed": false
   },
   "outputs": [],
   "source": [
    "def cout_regulation(regulation):\n",
    "    cout = 0\n",
    "    n = len(regulation)\n",
    "    sommet = [3*k + regulation[k] for k in range(n)]\n",
    "    for k in range(n - 1):\n",
    "        s = sommet[k]\n",
    "        for j in range(k + 1, n):            \n",
    "            cout += conflit[s][sommet[j]]\n",
    "    return cout   "
   ]
  },
  {
   "cell_type": "code",
   "execution_count": 7,
   "metadata": {
    "collapsed": false
   },
   "outputs": [
    {
     "data": {
      "text/plain": [
       "250"
      ]
     },
     "execution_count": 7,
     "metadata": {},
     "output_type": "execute_result"
    }
   ],
   "source": [
    "cout_regulation([0, 1, 1])"
   ]
  },
  {
   "cell_type": "code",
   "execution_count": 8,
   "metadata": {
    "collapsed": true
   },
   "outputs": [],
   "source": [
    "def nb_vol_par_niveau_relatif(regulation):\n",
    "    cout = [0]*3\n",
    "    for r in regulation:\n",
    "        cout[r] += 1\n",
    "    return cout"
   ]
  },
  {
   "cell_type": "code",
   "execution_count": 9,
   "metadata": {
    "collapsed": false
   },
   "outputs": [
    {
     "data": {
      "text/plain": [
       "[1, 2, 0]"
      ]
     },
     "execution_count": 9,
     "metadata": {},
     "output_type": "execute_result"
    }
   ],
   "source": [
    "nb_vol_par_niveau_relatif([0, 1, 1])"
   ]
  },
  {
   "cell_type": "markdown",
   "metadata": {},
   "source": [
    "La fonction `cout_regulation` effectue $n - 1$ tours de boucles externes.\n",
    "Chaque tour de boucle externe comprend $n - k - 1$ tours de boucles internes.\n",
    "Chaque tour de boucle interne comprend une affectation.\n",
    "La complexité de `cout_regulation` est donc en $n - 1 + n - 2 + \\ldots + 1 = \\frac{n(n-1)}{2}=O(n^2)$, elle est __quadratique__."
   ]
  },
  {
   "cell_type": "code",
   "execution_count": 10,
   "metadata": {
    "collapsed": true
   },
   "outputs": [],
   "source": [
    "def cout_RFL():\n",
    "    return cout_regulation([0]*(len(conflit)//3))"
   ]
  },
  {
   "cell_type": "code",
   "execution_count": 11,
   "metadata": {
    "collapsed": false
   },
   "outputs": [
    {
     "data": {
      "text/plain": [
       "500"
      ]
     },
     "execution_count": 11,
     "metadata": {},
     "output_type": "execute_result"
    }
   ],
   "source": [
    "cout_RFL()"
   ]
  },
  {
   "cell_type": "markdown",
   "metadata": {},
   "source": [
    "Pour $n$ vols, il existe $3^n$ régulations possibles qui sont les $n-listes$ d'élements pris dans l'ensemble `{0,1,2}`"
   ]
  },
  {
   "cell_type": "markdown",
   "metadata": {},
   "source": [
    "Il n'est pas envisageable de calculer les couts de toutes les régulations possibles pour trouver celle de cout minimal, car cet algorithme aurait une complexité en $O(n^2 3^n)$."
   ]
  },
  {
   "cell_type": "markdown",
   "metadata": {},
   "source": [
    "## Algorithme minimal"
   ]
  },
  {
   "cell_type": "code",
   "execution_count": 12,
   "metadata": {
    "collapsed": true
   },
   "outputs": [],
   "source": [
    "def cout_du_sommet(s, etat_sommet):\n",
    "    cout = 0\n",
    "    adjacents = conflit[s]\n",
    "    for k in range(len(etat_sommet)):\n",
    "        if etat_sommet[k] != 0:\n",
    "            cout += adjacents[k]\n",
    "    return cout            "
   ]
  },
  {
   "cell_type": "markdown",
   "metadata": {},
   "source": [
    "La complexité de la fonction `cout_du_sommet` est __linéaire__, en $3n= O(n)$."
   ]
  },
  {
   "cell_type": "code",
   "execution_count": 13,
   "metadata": {
    "collapsed": false
   },
   "outputs": [
    {
     "data": {
      "text/plain": [
       "100"
      ]
     },
     "execution_count": 13,
     "metadata": {},
     "output_type": "execute_result"
    }
   ],
   "source": [
    "cout_du_sommet(8, [1, 0, 0, 0, 1, 0, 2, 2, 2])"
   ]
  },
  {
   "cell_type": "code",
   "execution_count": 14,
   "metadata": {
    "collapsed": false
   },
   "outputs": [],
   "source": [
    "def sommet_de_cout_min(etat_sommet):\n",
    "    \"\"\"Retourne l'index du sommet de cout minimal parmi les sommets qui \n",
    "    n'ont pas encore été choisis ou supprimés\"\"\"\n",
    "    cout_min = None\n",
    "    index_min = None\n",
    "    for k in range(len(etat_sommet)):\n",
    "        s = etat_sommet[k]\n",
    "        if s == 2:\n",
    "            c = cout_du_sommet(k, etat_sommet)\n",
    "            if cout_min == None or c < cout_min:\n",
    "                cout_min = c\n",
    "                index_min = k\n",
    "    return index_min"
   ]
  },
  {
   "cell_type": "code",
   "execution_count": 15,
   "metadata": {
    "collapsed": false
   },
   "outputs": [
    {
     "data": {
      "text/plain": [
       "8"
      ]
     },
     "execution_count": 15,
     "metadata": {},
     "output_type": "execute_result"
    }
   ],
   "source": [
    "sommet_de_cout_min([1, 0, 0, 0, 1, 0, 2, 2, 2])"
   ]
  },
  {
   "cell_type": "markdown",
   "metadata": {},
   "source": [
    "La complexité de la fonction `sommet_de_cout_min` est __quadratique__ en $3n \\times O(n) = O(n^{2})$."
   ]
  },
  {
   "cell_type": "code",
   "execution_count": 16,
   "metadata": {
    "collapsed": true
   },
   "outputs": [],
   "source": [
    "def minimal():\n",
    "    m = len(conflit)\n",
    "    n = m//3\n",
    "    etat_sommet = [2]*m\n",
    "    regulation = [0]*n\n",
    "    for k in range(n):\n",
    "        indexmin = sommet_de_cout_min(etat_sommet)        \n",
    "        q = indexmin // 3\n",
    "        regulation[q] = indexmin%3\n",
    "        for j in range(3):\n",
    "            index = 3*q + j\n",
    "            if index != indexmin:\n",
    "                etat_sommet[index] = 0\n",
    "            else:\n",
    "                etat_sommet[index] = 1\n",
    "    return regulation     "
   ]
  },
  {
   "cell_type": "markdown",
   "metadata": {},
   "source": [
    "La complexité de la fonction `minimal` est de $n \\times O(n^{2})=O(n^{3})$."
   ]
  },
  {
   "cell_type": "code",
   "execution_count": 17,
   "metadata": {
    "collapsed": false
   },
   "outputs": [
    {
     "data": {
      "text/plain": [
       "[1, 0, 1]"
      ]
     },
     "execution_count": 17,
     "metadata": {},
     "output_type": "execute_result"
    }
   ],
   "source": [
    "minimal()"
   ]
  },
  {
   "cell_type": "code",
   "execution_count": 18,
   "metadata": {
    "collapsed": false
   },
   "outputs": [
    {
     "data": {
      "text/plain": [
       "0"
      ]
     },
     "execution_count": 18,
     "metadata": {},
     "output_type": "execute_result"
    }
   ],
   "source": [
    "cout_regulation([1, 0, 1])"
   ]
  },
  {
   "cell_type": "markdown",
   "metadata": {},
   "source": [
    "## Recuit simulé"
   ]
  },
  {
   "cell_type": "markdown",
   "metadata": {},
   "source": [
    "L’algorithme de recuit simulé part d’une régulation initiale quelconque (par exemple la régulation pour laquelle\n",
    "chacun des avions vole à son RFL) et d’une valeur positive T choisie empiriquement. Il réalise un nombre fini\n",
    "d’étapes se déroulant ainsi :\n",
    "\n",
    "* un vol v(k) est tiré au hasard ;\n",
    "*  on modifie  u(k) en tirant au hasard parmi les deux autres valeurs possibles ;\n",
    "\n",
    "      • si cette modification diminue le cout de la régulation, cette modification est conservée ;\n",
    "    \n",
    "      • sinon, cette modification n’est conservée qu’avec une probabilité p = exp(−Δc/T ), où Δc est l’augmentation de cout liée à la modification de la régulation ;\n",
    "    \n",
    "* le paramètre T est diminué d’une certaine quantité.\n",
    "\n",
    "Écrire en Python une fonction recuit(regulation) qui modifie la liste regulation passée en paramètre en\n",
    "appliquant l’algorithme du recuit simulé. On fera débuter l’algorithme avec la valeur T = 1000 et à chaque\n",
    "étape la valeur de T sera diminuée de 1%. L’algorithme se terminera lorsque T < 1."
   ]
  },
  {
   "cell_type": "code",
   "execution_count": 5,
   "metadata": {
    "collapsed": true
   },
   "outputs": [],
   "source": [
    "def recuit(regulation):\n",
    "    T = 1000\n",
    "    m = len(conflit)\n",
    "    n = m//3\n",
    "    cout = cout_regulation(regulation)\n",
    "    while T >= 1:        \n",
    "        k = random.randint(0, n - 1)\n",
    "        rk = regulation[k]\n",
    "        mk = [0,1,2]\n",
    "        del(mk[rk])\n",
    "        newrk = mk[random.randint(0, 1)]\n",
    "        regulation[k] = newrk\n",
    "        newcout = cout_regulation(regulation)\n",
    "        deltac = newcout - cout\n",
    "        # mise à jour du cout minimal si le nouveau cout est inférieur\n",
    "        # sinon on rétablit l'ancienne version \n",
    "        if newcout < cout or random.random() < math.exp(-deltac/T):\n",
    "            cout = newcout   \n",
    "        else:\n",
    "            regulation[k] = rk\n",
    "        T = T * 0.99    #on diminue T de 1 %        \n",
    "    return regulation"
   ]
  },
  {
   "cell_type": "code",
   "execution_count": 57,
   "metadata": {
    "collapsed": false
   },
   "outputs": [
    {
     "data": {
      "text/plain": [
       "[1, 0, 2]"
      ]
     },
     "execution_count": 57,
     "metadata": {},
     "output_type": "execute_result"
    }
   ],
   "source": [
    "recuit([0,0,0])"
   ]
  },
  {
   "cell_type": "code",
   "execution_count": 59,
   "metadata": {
    "collapsed": false
   },
   "outputs": [
    {
     "data": {
      "text/plain": [
       "0"
      ]
     },
     "execution_count": 59,
     "metadata": {},
     "output_type": "execute_result"
    }
   ],
   "source": [
    "cout_regulation([1, 0, 2])"
   ]
  },
  {
   "cell_type": "code",
   "execution_count": 4,
   "metadata": {
    "collapsed": false
   },
   "outputs": [
    {
     "data": {
      "text/plain": [
       "687.31586483008266"
      ]
     },
     "execution_count": 4,
     "metadata": {},
     "output_type": "execute_result"
    }
   ],
   "source": [
    "np.log(1/1000) / np.log(0.99)"
   ]
  },
  {
   "cell_type": "markdown",
   "metadata": {},
   "source": [
    "# III Système d’alerte de trafic et d’évitement de collision"
   ]
  },
  {
   "cell_type": "code",
   "execution_count": 21,
   "metadata": {
    "collapsed": false
   },
   "outputs": [],
   "source": [
    "class transpondeur():\n",
    "    debit_binaire = 10**6\n",
    "    temps_emission = 128*10**(-6)\n",
    "    bits_debut = 6\n",
    "    bits_fin = 6\n",
    "    bits_controle = 4\n",
    "    bits_emis = debit_binaire*temps_emission\n",
    "    bits_donnees = bits_emis - bits_debut - bits_fin - bits_controle\n",
    "    altitude_min = 2000\n",
    "    altitude_max = 66000\n",
    "    vitesse_ascensionnelle_min = -5000\n",
    "    vitesse_ascensionnelle_max = 5000"
   ]
  },
  {
   "cell_type": "code",
   "execution_count": 22,
   "metadata": {
    "collapsed": false
   },
   "outputs": [
    {
     "name": "stdout",
     "output_type": "stream",
     "text": [
      "112.0\n"
     ]
    }
   ],
   "source": [
    "t = transpondeur()\n",
    "print(t.bits_donnees)"
   ]
  },
  {
   "cell_type": "markdown",
   "metadata": {},
   "source": [
    "Supposons que :\n",
    "    \n",
    "* l'altitude est un entier non signé codé sur n bits avec un décalage\n",
    "de $-2000$, il faut donc $17$ bits pour coder les entiers de $0$ à $66000-2000=64000$\n",
    "\n",
    "* la vitesse ascensionnelle est un entier signé codé en complément à $2$, il faut $14$ bits pour coder les entiers \n",
    "de $-5000$ à $5000$\n",
    "\n",
    "Il faut donc $17 + 14 = 31$ bits pour coder l'altitude et la la vitesse ascensionnelle. Sachant qu'il faut $24$ bits pour l'identifiant de l'avion, celà nécessite au total $31+24=55$ bits  ce qui est bien inférieur aux $112$ bits disponibles."
   ]
  },
  {
   "cell_type": "markdown",
   "metadata": {},
   "source": [
    "Supposons que :\n",
    "    \n",
    "* l'altitude et la vitesse ascensionnelle soient des des entiers signés, codés en complément à deux, il faut alors $18$ bits pour coder $66000$ la donnée maximale en valeur absolue qui est de signe positif et on a donc besoin de $2 \\times 18 = 36$ bits pour coder la vitesse ascensionnelle et l'altitude \n",
    "\n",
    "Sachant qu'il faut $24$ bits pour l'identifiant de l'avion, celà nécessite au total $36+24=60$ bits ce qui est bien inférieur aux $112$ bits disponibles."
   ]
  },
  {
   "cell_type": "code",
   "execution_count": 23,
   "metadata": {
    "collapsed": false
   },
   "outputs": [],
   "source": [
    "def nb_bits_entier(n, signe = True):\n",
    "    negatif = n < 0\n",
    "    if negatif:\n",
    "        n = -n \n",
    "    m = 1\n",
    "    p = 2\n",
    "    while p <= n:       \n",
    "        p *= 2\n",
    "        m += 1        \n",
    "    if not signe or negatif and p/2 == n:\n",
    "        return m   \n",
    "    return m + 1"
   ]
  },
  {
   "cell_type": "code",
   "execution_count": 24,
   "metadata": {
    "collapsed": false
   },
   "outputs": [
    {
     "data": {
      "text/plain": [
       "[1, 1, 2, 2, 3, 3, 3, 3, 4]"
      ]
     },
     "execution_count": 24,
     "metadata": {},
     "output_type": "execute_result"
    }
   ],
   "source": [
    "[nb_bits_entier(k, signe = False) for k in range(9)]"
   ]
  },
  {
   "cell_type": "code",
   "execution_count": 25,
   "metadata": {
    "collapsed": false
   },
   "outputs": [
    {
     "data": {
      "text/plain": [
       "14"
      ]
     },
     "execution_count": 25,
     "metadata": {},
     "output_type": "execute_result"
    }
   ],
   "source": [
    "nb_bits_entier(5000, signe = True)"
   ]
  },
  {
   "cell_type": "code",
   "execution_count": 26,
   "metadata": {
    "collapsed": false
   },
   "outputs": [
    {
     "data": {
      "text/plain": [
       "(4095, 8191)"
      ]
     },
     "execution_count": 26,
     "metadata": {},
     "output_type": "execute_result"
    }
   ],
   "source": [
    "2**12 - 1, 2**13 - 1"
   ]
  },
  {
   "cell_type": "code",
   "execution_count": 27,
   "metadata": {
    "collapsed": false
   },
   "outputs": [
    {
     "data": {
      "text/plain": [
       "18"
      ]
     },
     "execution_count": 27,
     "metadata": {},
     "output_type": "execute_result"
    }
   ],
   "source": [
    "nb_bits_entier(66000, signe = True)"
   ]
  },
  {
   "cell_type": "code",
   "execution_count": 28,
   "metadata": {
    "collapsed": false
   },
   "outputs": [
    {
     "data": {
      "text/plain": [
       "8"
      ]
     },
     "execution_count": 28,
     "metadata": {},
     "output_type": "execute_result"
    }
   ],
   "source": [
    "nb_bits_entier(-128, signe = True)"
   ]
  },
  {
   "cell_type": "code",
   "execution_count": 29,
   "metadata": {
    "collapsed": false
   },
   "outputs": [
    {
     "data": {
      "text/plain": [
       "9"
      ]
     },
     "execution_count": 29,
     "metadata": {},
     "output_type": "execute_result"
    }
   ],
   "source": [
    "nb_bits_entier(128, signe = True)"
   ]
  },
  {
   "cell_type": "markdown",
   "metadata": {},
   "source": [
    "Après avoir récupéré les informations nécessaires, la fonction acquerir_intrus calcule la position et\n",
    "la vitesse de l’intrus par rapport à l’avion propre et renvoie une liste de huit nombres :\n",
    "\n",
    "\n",
    "    [id, x, y, z, vx, vy, vz, t0]\n",
    "    \n",
    "où\n",
    "\n",
    "* id est le numéro d’identification de l’intrus ;\n",
    "* x, y, z les coordonnées (en mètres) de l’intrus dans un repère orthonormé R 0 lié à l’avion propre ;\n",
    "* vx, vy, vz la vitesse (en mètres par seconde) de l’intrus dans ce même repère ;\n",
    "* t0 le moment de la mesure (en secondes depuis un instant de référence).\n",
    "\n",
    "À des fins d’analyse une fois l’avion revenu au sol, la fonction acquerir_intrus conserve chaque résultat obtenu.\n",
    "Chaque nombre est stocké sur 4 octets. En supposant que cette fonction est appelé au maximum 100 fois par\n",
    "seconde, quel est le volume de mémoire nécessaire pour conserver les données de 100 heures de fonctionnement\n",
    "du TCAS ?\n",
    "Ce volume de stockage représente-t-il une contrainte technique forte ?"
   ]
  },
  {
   "cell_type": "code",
   "execution_count": 30,
   "metadata": {
    "collapsed": true
   },
   "outputs": [],
   "source": [
    "class stockage_tcas():\n",
    "    vstock_avion = 8*4  #volume de stockage d'un avion en octets\n",
    "    debit_stock = 100  #debit de stockage en nombre de stockage par seconde\n",
    "    duree_vol = 100*3600\n",
    "    vstock_total = duree_vol * debit_stock*vstock_avion"
   ]
  },
  {
   "cell_type": "code",
   "execution_count": 31,
   "metadata": {
    "collapsed": false
   },
   "outputs": [
    {
     "name": "stdout",
     "output_type": "stream",
     "text": [
      "1.152000e+09\n"
     ]
    }
   ],
   "source": [
    "print(\"{:e}\".format(stockage_tcas().vstock_total))"
   ]
  },
  {
   "cell_type": "markdown",
   "metadata": {},
   "source": [
    "Le volume de stockage nécessaire pour $100$ heures de fonctionnement est de $1,15$ To environ ce qui ne constitue pas une contrainte technique forte"
   ]
  },
  {
   "cell_type": "markdown",
   "metadata": {},
   "source": [
    "## Estimation du CPA"
   ]
  },
  {
   "cell_type": "markdown",
   "metadata": {},
   "source": [
    "`[id, x, y, z, vx, vy, vz, t0] = acquerir_intrus()`\n",
    "\n",
    "$\\overrightarrow {OG}(t) \\left(x + (t - t0) \\times vx, y + (t - t0) \\times vy, z + (t - t0) \\times vz \\right)$"
   ]
  },
  {
   "cell_type": "markdown",
   "metadata": {},
   "source": [
    "On a :\n",
    "    \n",
    "\\begin{equation*}\n",
    "{\\Vert \\overrightarrow {OG}(t)\\Vert}^{2}=(x + (t - t0) \\times vx)^{2} + (y + (t - t0) \\times vy)^{2} + (z + (t - t0) \\times vz)^{2} \n",
    "\\end{equation*}\n",
    "\n",
    "La fonction polynome du second degré $t \\mapsto {\\Vert \\overrightarrow {OG}(t)\\Vert}^{2}$ atteint son minimum en :\n",
    "\n",
    "\\begin{align*}\n",
    "t_{c}=-\\frac{b}{2a} & =-\\frac{2(x \\times vx + y \\times vy + z \\times vz)}{2({vx}^2+{vy}^{2}+{vz}^{2})}  \\\\\n",
    "t_{c}=-\\frac{b}{2a} & =-\\frac{x \\times vx + y \\times vy + z \\times vz}{{vx}^2+{vy}^{2}+{vz}^{2}}\n",
    "\\end{align*}"
   ]
  },
  {
   "cell_type": "markdown",
   "metadata": {},
   "source": [
    "Il y a risque de collision si et seulement si $t_{c} \\geqslant 0$.\n",
    "\n",
    "\\begin{align*}\n",
    "    t_{c} \\geqslant  0  & \\Leftrightarrow x \\times vx + y \\times vy + z \\times vz \\leqslant  0 \\\\\n",
    "     t_{c} \\geqslant  0   & \\Leftrightarrow \\overrightarrow{OG}(t_{0}) \\, \\dot \\, \\overrightarrow{V} \\leqslant  0\n",
    "\\end{align*}\n",
    "\n",
    "\n",
    "On en déduit qu'il n'y a pas de risque de collision si le produit scalaire $\\overrightarrow{OG}(t_{0}) \\, \\dot \\, \\overrightarrow{V}$ est positif.\n"
   ]
  },
  {
   "cell_type": "code",
   "execution_count": 32,
   "metadata": {
    "collapsed": true
   },
   "outputs": [],
   "source": [
    "def calculer_CPA(intrus):\n",
    "    \n",
    "    def prodscal(v1, v2):\n",
    "        return sum(c1*c2 for (c1, c2) in zip(v1, v2))\n",
    "        \n",
    "    (id, x, y, z, vx, vy, vz, t0) = intrus\n",
    "    p = prodscal((x,y,z), (vx, vy, vz))\n",
    "    if p > 0:\n",
    "        return None\n",
    "    tCPA =  -p/(vx**2 + vy**2 + vz**2)\n",
    "    dt = tCPA - t0\n",
    "    v = (x + dt*vx, y + dt*vy, z + dt*vz)\n",
    "    dCPA = math.sqrt(prodscal(v, v))\n",
    "    #conversion de zCPA en pieds\n",
    "    zCPA = v[2]/0.3048  #un pied égal à 30,48 cm\n",
    "    return [tCPA, dCPA, zCPA]"
   ]
  },
  {
   "cell_type": "markdown",
   "metadata": {},
   "source": [
    "## Mise à jour de la liste des CPA "
   ]
  },
  {
   "cell_type": "code",
   "execution_count": 33,
   "metadata": {
    "collapsed": false
   },
   "outputs": [],
   "source": [
    "def mettre_a_jour_CPAs(CPAs, id, nv_CPA, intrus_max, suivi_max):\n",
    "    nbCPAs = len(CPAs)\n",
    "    k = 0\n",
    "    #recherche sequentielle de l'avion d'identifiant id\n",
    "    #dans la liste CPAs    \n",
    "    while k < nbCPAs and CPAs[k][0] != id:\n",
    "        k += 1\n",
    "    #si l'avion est  deja suivi\n",
    "    if k < nbCPAs:\n",
    "        if not nv_CPA or nv_CPA[0] > suivi_max:\n",
    "            del CPAs[k]\n",
    "            return None\n",
    "        else:\n",
    "            CPAs[k] = [id] + nv_CPA\n",
    "            return k\n",
    "    # sinon si l'avion n'est pas deja suivi\n",
    "    elif  nv_CPA and nv_CPA[0] < suivi_max:\n",
    "        if nbCPAs < intrus_max:\n",
    "            CPAs.append([id] + nv_CPA)\n",
    "        elif nv_CPA[0] < CPAs[-1][1]:\n",
    "            CPAs[-1] = [id] + nv_CPA\n",
    "        return nbCPAs - 1\n",
    "    return None   "
   ]
  },
  {
   "cell_type": "code",
   "execution_count": 34,
   "metadata": {
    "collapsed": true
   },
   "outputs": [],
   "source": [
    "def replacer(ligne, CPAs):\n",
    "    \"\"\"Replace la ligne ligne à sa place dans l'ordre croissant\n",
    "    des tCPA dans la liste CPAs\"\"\"\n",
    "    nbCPAs = len(CPAs)\n",
    "    if ligne > 0 and CPAs[ligne][1] < CPAs[ligne - 1][1] :\n",
    "        direction = -1\n",
    "        compare = lambda x, y : x > y\n",
    "    else:\n",
    "        direction = 1\n",
    "        compare = lambda x, y : x < y\n",
    "    element = CPAs[ligne]\n",
    "    telement = element[1]\n",
    "    k = ligne\n",
    "    while 0 <= k + direction < nbCPAs and compare(CPAs[k + direction][1], telement):\n",
    "        CPAs[k] = CPAs[k+direction]\n",
    "        k = k + direction\n",
    "    CPAs[k] = element"
   ]
  },
  {
   "cell_type": "code",
   "execution_count": 35,
   "metadata": {
    "collapsed": false
   },
   "outputs": [
    {
     "data": {
      "text/plain": [
       "True"
      ]
     },
     "execution_count": 35,
     "metadata": {},
     "output_type": "execute_result"
    }
   ],
   "source": [
    "compare = lambda x, y : x > y\n",
    "compare(13, 10)"
   ]
  },
  {
   "cell_type": "code",
   "execution_count": 36,
   "metadata": {
    "collapsed": false
   },
   "outputs": [],
   "source": [
    "# une liste de tests\n",
    "CPAs = [ [ 11305708, 1462190400, 2450, -1000],\n",
    "       [12416823, 1462190412, 2500, 500],\n",
    "       [32675398, 1462190455, 2000, 800],\n",
    "       [165465446, 1462190405, 1800, 400],\n",
    "       [18743283, 1462190463, 2100, -200]]"
   ]
  },
  {
   "cell_type": "code",
   "execution_count": 37,
   "metadata": {
    "collapsed": false
   },
   "outputs": [],
   "source": [
    "replacer(3, CPAs)"
   ]
  },
  {
   "cell_type": "code",
   "execution_count": 38,
   "metadata": {
    "collapsed": false
   },
   "outputs": [
    {
     "data": {
      "text/plain": [
       "[[11305708, 1462190400, 2450, -1000],\n",
       " [165465446, 1462190405, 1800, 400],\n",
       " [12416823, 1462190412, 2500, 500],\n",
       " [32675398, 1462190455, 2000, 800],\n",
       " [18743283, 1462190463, 2100, -200]]"
      ]
     },
     "execution_count": 38,
     "metadata": {},
     "output_type": "execute_result"
    }
   ],
   "source": [
    "CPAs"
   ]
  },
  {
   "cell_type": "code",
   "execution_count": 39,
   "metadata": {
    "collapsed": true
   },
   "outputs": [],
   "source": [
    "def enregistrer_CPA(intrus, CPAs, intrus_max, suivi_max):\n",
    "    id = intrus[0]\n",
    "    nv_CPA = calculer_CPA(intrus)\n",
    "    k = mettre_a_jour_CPAs(CPAs, id, nv_CPA, intrus_max, suivi_max)\n",
    "    if k != None:\n",
    "        replacer(k, CPAs)"
   ]
  },
  {
   "cell_type": "markdown",
   "metadata": {},
   "source": [
    "## Evaluation des paramètres généraux du système TCAS"
   ]
  },
  {
   "cell_type": "code",
   "execution_count": 40,
   "metadata": {
    "collapsed": false
   },
   "outputs": [
    {
     "name": "stdout",
     "output_type": "stream",
     "text": [
      "120.0\n"
     ]
    }
   ],
   "source": [
    "vitesse = 900 #vitesse d'un avion en km/h\n",
    "distance = 60 #distance de l'intrus en km\n",
    "vrelative_intrus_max = 2*vitesse\n",
    "#temps de collision minimum en secondes\n",
    "temps_collision_min = distance/vrelative_intrus_max*3600\n",
    "print(temps_collision_min)"
   ]
  },
  {
   "cell_type": "markdown",
   "metadata": {},
   "source": [
    "La valeur standard de `suivi_max` est très proche (100 s) tout en étant légèrement\n",
    "inférieure, l'intrus n'est donc pas immédiatement intégré à la liste CPA pour éviter de la surcharger inutilement. D'autres avions avec des tCPA plus proches seront surveillés en priorité.\n",
    "D'après l'énoncé :\n",
    "\n",
    "    La fonction acquerir_intrus détermine la position et la vitesse d’un intrus particulier. À chaque appel, elle\n",
    "    s’intéresse à un avion différent dans le périmètre de surveillance du TCAS. Lorsque tous les intrus ont été\n",
    "    examinés, l’appel suivant revient au premier intrus qui est toujours dans le périmètre.\n",
    "\n",
    "Ainsi si l'intrus détecté à 60 km poursuit sa trajectoire, il devrait normalement être capté par la fonction `acquerir_intrus` et intégré s'il le faut à la liste CPAs."
   ]
  },
  {
   "cell_type": "code",
   "execution_count": 41,
   "metadata": {
    "collapsed": false
   },
   "outputs": [
    {
     "name": "stdout",
     "output_type": "stream",
     "text": [
      "Ils doivent maneuvrer 10.000 secondes avant leur CPA\n"
     ]
    }
   ],
   "source": [
    "vitesse_ascensionnelle = 1500 #en pieds par minute\n",
    "distance = 500 #en pieds\n",
    "temps = distance/(2*vitesse_ascensionnelle) #en minutes\n",
    "print(\"Ils doivent maneuvrer {:.3f} secondes avant leur CPA\".format(temps*60))"
   ]
  },
  {
   "cell_type": "markdown",
   "metadata": {},
   "source": [
    "La consigne donnée dans l'énoncé à la question III D 3) est cohérente avec ce réultat. "
   ]
  },
  {
   "cell_type": "markdown",
   "metadata": {},
   "source": [
    "Les spécifications du système TCAS prévoient que la position de chaque intrus doit être vérifiée au\n",
    "moins une fois par seconde. Elles limitent d’autre part le nombre d’intrus suivis à 30. En déduire le temps\n",
    "maximum dont dispose la fonction TCAS pour exécuter une fois sa boucle."
   ]
  },
  {
   "cell_type": "markdown",
   "metadata": {},
   "source": [
    "La fonction TCAS doit effectuer sa boucle en au plus $\\frac{1}{30}$ de seconde."
   ]
  },
  {
   "cell_type": "markdown",
   "metadata": {},
   "source": [
    "Quel est le facteur limitant la vitesse d’exécution de la fonction TCAS ? En déduire un ordre de grandeur\n",
    "du temps minimum d’exécution d’une boucle. Est-il compatible avec les spécifications du système TCAS ?"
   ]
  },
  {
   "cell_type": "markdown",
   "metadata": {},
   "source": [
    "Réponse : c'est la recherche séquentielle de l'intrus dans la liste CPAs\n",
    "puis éventuellement l'insertion de la ligne de l'intrus à sa place dans la liste CPAs.\n",
    "Dans les deux cas la complexité est linéaire d'ordre $O(intrusmax)$.\n",
    "Une machine exécutant $10^6$ opérations par secondes mettre environ $2 \\times 30 \\times 10^{-6} \\approx 10^{-4}$ secondes pour réaliser une boucle. $\\frac{1}{30} \\approx 3 \\times 10^{-2}$ secondes donc il y a de la marge.\n"
   ]
  },
  {
   "cell_type": "code",
   "execution_count": 42,
   "metadata": {
    "collapsed": false
   },
   "outputs": [
    {
     "data": {
      "text/plain": [
       "0.03333333333333333"
      ]
     },
     "execution_count": 42,
     "metadata": {},
     "output_type": "execute_result"
    }
   ],
   "source": [
    "1/30"
   ]
  }
 ],
 "metadata": {
  "kernelspec": {
   "display_name": "Python 3",
   "language": "python",
   "name": "python3"
  },
  "language_info": {
   "codemirror_mode": {
    "name": "ipython",
    "version": 3
   },
   "file_extension": ".py",
   "mimetype": "text/x-python",
   "name": "python",
   "nbconvert_exporter": "python",
   "pygments_lexer": "ipython3",
   "version": "3.5.2"
  }
 },
 "nbformat": 4,
 "nbformat_minor": 0
}
