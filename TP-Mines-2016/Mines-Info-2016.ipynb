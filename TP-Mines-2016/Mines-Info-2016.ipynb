{
 "cells": [
  {
   "cell_type": "code",
   "execution_count": 44,
   "metadata": {},
   "outputs": [],
   "source": [
    "import numpy as np\n",
    "import matplotlib.pyplot as plt\n",
    "import random as rd\n",
    "from typing import Callable  #pour annoter le type function"
   ]
  },
  {
   "cell_type": "markdown",
   "metadata": {},
   "source": [
    "# Partie I Tri et bases de données"
   ]
  },
  {
   "cell_type": "code",
   "execution_count": 46,
   "metadata": {},
   "outputs": [],
   "source": [
    "def tri(L:[int])->None:\n",
    "    \"\"\"Tri par insertion d'une liste L\"\"\"\n",
    "    n = len(L)\n",
    "    for i in range(1, n):\n",
    "        j = i\n",
    "        x = L[i]\n",
    "        while 0 < j and x < L[j-1]:\n",
    "            L[j] = L[j-1]\n",
    "            j = j-1            \n",
    "        L[j] = x "
   ]
  },
  {
   "cell_type": "code",
   "execution_count": 47,
   "metadata": {},
   "outputs": [
    {
     "name": "stdout",
     "output_type": "stream",
     "text": [
      "Test unitaires réussis\n"
     ]
    }
   ],
   "source": [
    "#Tests unitaires\n",
    "for L in [[], [5, 2, 3, 1, 4], list(range(6)), list(range(5, -1, -1))]:\n",
    "    tri(L)\n",
    "    assert L == sorted(L)\n",
    "print(\"Test unitaires réussis\")"
   ]
  },
  {
   "cell_type": "markdown",
   "metadata": {},
   "source": [
    "## Q1"
   ]
  },
  {
   "cell_type": "code",
   "execution_count": 17,
   "metadata": {},
   "outputs": [
    {
     "name": "stdout",
     "output_type": "stream",
     "text": [
      "|    i     |    j     |    x     |                   L                    |\n",
      "|    1     |    1     |    2     |            [5, 2, 3, 1, 4]             |\n",
      "|    1     |    0     |    2     |            [5, 5, 3, 1, 4]             |\n",
      "|    1     |    0     |    2     |            [2, 5, 3, 1, 4]             |\n",
      "|    2     |    2     |    3     |            [2, 5, 3, 1, 4]             |\n",
      "|    2     |    1     |    3     |            [2, 5, 5, 1, 4]             |\n",
      "|    2     |    1     |    3     |            [2, 3, 5, 1, 4]             |\n",
      "|    3     |    3     |    1     |            [2, 3, 5, 1, 4]             |\n",
      "|    3     |    2     |    1     |            [2, 3, 5, 5, 4]             |\n",
      "|    3     |    1     |    1     |            [2, 3, 3, 5, 4]             |\n",
      "|    3     |    0     |    1     |            [2, 2, 3, 5, 4]             |\n",
      "|    3     |    0     |    1     |            [1, 2, 3, 5, 4]             |\n",
      "|    4     |    4     |    4     |            [1, 2, 3, 5, 4]             |\n",
      "|    4     |    3     |    4     |            [1, 2, 3, 5, 5]             |\n",
      "|    4     |    3     |    4     |            [1, 2, 3, 4, 5]             |\n"
     ]
    }
   ],
   "source": [
    "# Question 1\n",
    "# faire un tableau d'états\n",
    "\n",
    "def tri(L, debug = False):\n",
    "    \"\"\"Tri par insertion d'une liste L\"\"\"\n",
    "    n = len(L)\n",
    "    if debug:\n",
    "        print(\"|{:^10}|{:^10}|{:^10}|{:^40}|\".format(\"i\",\"j\",\"x\", \"L\"))\n",
    "    for i in range(1, n):\n",
    "        j = i\n",
    "        x = L[i]\n",
    "        if debug:\n",
    "            print(\"|{:^10d}|{:^10d}|{:^10d}|{:^40s}|\".format(i,j,x, str(L)))\n",
    "        while 0 < j and x < L[j-1]:\n",
    "            L[j] = L[j-1]\n",
    "            j = j-1      \n",
    "            if debug:\n",
    "                print(\"|{:^10d}|{:^10d}|{:^10d}|{:^40}|\".format(i,j,x, str(L)))      \n",
    "        L[j] = x \n",
    "        if debug:\n",
    "                print(\"|{:^10d}|{:^10d}|{:^10d}|{:^40}|\".format(i,j,x, str(L)))\n",
    "\n",
    "\n",
    "L = [5, 2, 3, 1, 4]\n",
    "tri(L, debug = True)"
   ]
  },
  {
   "cell_type": "markdown",
   "metadata": {},
   "source": [
    "# Q2"
   ]
  },
  {
   "cell_type": "markdown",
   "metadata": {},
   "source": [
    "\n",
    "**On démontre d'abord la terminaison de la fonction `tri` sur n'importe quelle entrée :**\n",
    "\n",
    "\n",
    "La boucle externe de la fonction `tri`  est une boucle inconditionnelle et pour chaque itération de la boucle externe on a une boucle interne conditionnelle avec un entier positif `j` qui est un  __variant de boucle__ car il décroît strictement à chaque itération. Par conséquent chaque itération de la boucle externe se termine et la boucle externe se termine car c'est une boucle inconditionnelle.  **Ceci prouve la terminaison de la fonction `tri` sur n'importe quelle entrée.**\n",
    "\n",
    "\n",
    "\n",
    "**On démontre  ensuite  la correction de la fonction `tri` sur  n'importe quelle entrée :**\n",
    "\n",
    "\n",
    "Pour la fonction `tri` précédente, on définit   la propriété :\n",
    "\n",
    "_P(i):= `L[0:i+1]` triée dans l'ordre croissant à l'issue de l'itération `i`_ \n",
    "\n",
    "Démontrons que _P(i)_ est un **invariant** de la boucle externe de la fonction `tri`.\n",
    "\n",
    "* __Initialisation :__ Pour `i=0`,  `L[0:0+1]` est un sous-tableau réduit à un seul élément `L[0]` donc il est nécessairement trié dans l'ordre croissant.\n",
    "* __Hérédité :__  Supposon que  _P(i)_ soit vraie, `L[0:i+1]` est donc un sous-tableau trié dans l'ordre croissant. Lors de l'itération `i+1`, a boucle conditionnelle interne va insérer l'élément `L[i+1]` à sa place dans le sous-tableau `L[0:i+1]`. A la fin de l'itération `i+1` de la boucle externe, `L[0:i+2]` sera donc un sous-tableau d'éléments de `L` trié dans l'ordre croissant. **Ceci achève la preuve que _P(i)_ est un invariant de boucle.**\n",
    "\n",
    "\n",
    "La boucle externe se termine à l'issue de l'itération `i := n - 1`, en instanciant l'invariant en sortie de boucle, on obtient que _`L[0:n]` triée dans l'ordre croissant à l'issue de l'itération `i`_  ce qui équivaut à `L` triée dans l'ordre croissant. La postcondition fixée dans la spécification de la fonction `tri` est vérifiée et la fonction `tri` est donc correcte sur  n'importe quelle entrée. **Ceci prouve la correction de la fonction `tri` sur n'importe quelle entrée.**\n"
   ]
  },
  {
   "cell_type": "markdown",
   "metadata": {},
   "source": [
    "# Q3"
   ]
  },
  {
   "cell_type": "markdown",
   "metadata": {},
   "source": [
    "Le tri par insertion est de complexité linéaire dans le meilleur des cas (liste déjà classée) et quadratique dans le pire des cas (liste classée dans l'ordre inverse) :\n",
    "\n",
    "* __Cas le plus favorable :__ si la liste est déjà triée dans l'ordre croissant, la boucle interne n'est jamais exécutée car la condition pour la première itération, `x < L[j-1]`  pour `x = L[i]` et `j = i`,  n'est pas vérifiée. Les $n-1$ tours de la boucle conditionnelle externe sont exécutés ce qui fait une __complexité linéaire__. C'est le meilleur des cas car on ne peut avoir moins d'itérations de la boucle externe.\n",
    "* si la liste est déjà triée dans l'ordre décroissant,  lorsque l'index de la boucle externe vaut `i`, la valeur `L[i]` doit être insérée en première position dans le sous-tableau déjà trié `L[0:i]` et donc elle est comparée et échangée successivement avec les `i` valeurs d'index compris entre `0` et `i-1` inclus. Lorsque la boucle externe se termine, on aura donc $\\sum_{i=1}^{n-1}i=\\frac{(n-1)n}{2}$ exécutions de  la boucle interne. Cela fait une __complexité quadratique__ en $O(n^{2})$. On ne peut pas avoir de cas plus défavorable car au pire l'élément  d'index `i` à insérer est comparé et échangé avec les `i` précédents déjà triés. \n",
    "\n",
    "Le __tri rapide__ a une complexité moyenne linéarithmique d'ordre de grandeur $O(n \\ln(n))$ et une complexité quadratique dans le pire des cas.\n",
    "\n",
    "Le  __tri fusion__ a une complexité linéarithmique d'ordre de grandeur $O(n \\ln(n))$ dans tous les cas."
   ]
  },
  {
   "cell_type": "markdown",
   "metadata": {},
   "source": [
    "## Q4"
   ]
  },
  {
   "cell_type": "code",
   "execution_count": 20,
   "metadata": {},
   "outputs": [],
   "source": [
    "def tri_chaine(L):\n",
    "    for k in range(len(L)):\n",
    "        L[k][0], L[k][1] = L[k][1], L[k][0]\n",
    "    tri(L)\n",
    "    for k in range(len(L)):\n",
    "        L[k][0], L[k][1] = L[k][1], L[k][0]"
   ]
  },
  {
   "cell_type": "code",
   "execution_count": 22,
   "metadata": {},
   "outputs": [
    {
     "name": "stdout",
     "output_type": "stream",
     "text": [
      "Test réussi, L =  [['Bresil', 76], ['Ouganda', 8431], ['Kenya', 26017]]\n"
     ]
    }
   ],
   "source": [
    "# test unitaire\n",
    "L = [['Bresil', 76], ['Kenya', 26017], ['Ouganda', 8431]]\n",
    "tri_chaine(L)\n",
    "assert L == [['Bresil', 76], ['Ouganda', 8431], ['Kenya', 26017]]\n",
    "print(\"Test réussi, L = \", L)"
   ]
  },
  {
   "cell_type": "markdown",
   "metadata": {},
   "source": [
    "## Q5"
   ]
  },
  {
   "cell_type": "markdown",
   "metadata": {},
   "source": [
    "Les valeurs des attributs iso, nom et annee ne sont pas distinctes pour tous les enregistrements de la table palu donc ces attibuts ne peuvent servir de clef primaire.\n",
    "En revanche les couples (nom, annee) ou (iso, annee) peuvent servir de clef primaire."
   ]
  },
  {
   "cell_type": "markdown",
   "metadata": {},
   "source": [
    "## Chargement de l'extension ipython-sql\n",
    "\n",
    "Voir <https://www.datacamp.com/community/tutorials/sql-interface-within-jupyterlab>"
   ]
  },
  {
   "cell_type": "code",
   "execution_count": 1,
   "metadata": {},
   "outputs": [],
   "source": [
    "%reload_ext sql\n",
    "%config SqlMagic.displaycon = False\n",
    "%config SqlMagic.autolimit = 100"
   ]
  },
  {
   "cell_type": "code",
   "execution_count": 2,
   "metadata": {},
   "outputs": [],
   "source": [
    "%sql sqlite:///mine-2016.db"
   ]
  },
  {
   "cell_type": "code",
   "execution_count": null,
   "metadata": {},
   "outputs": [],
   "source": [
    "Contenu des tables :"
   ]
  },
  {
   "cell_type": "code",
   "execution_count": 9,
   "metadata": {},
   "outputs": [
    {
     "name": "stdout",
     "output_type": "stream",
     "text": [
      "Done.\n"
     ]
    },
    {
     "data": {
      "text/html": [
       "<table>\n",
       "    <tr>\n",
       "        <th>nom</th>\n",
       "        <th>iso</th>\n",
       "        <th>annee</th>\n",
       "        <th>cas</th>\n",
       "        <th>deces</th>\n",
       "    </tr>\n",
       "    <tr>\n",
       "        <td>Bresil</td>\n",
       "        <td>BR</td>\n",
       "        <td>2009</td>\n",
       "        <td>309316</td>\n",
       "        <td>85</td>\n",
       "    </tr>\n",
       "    <tr>\n",
       "        <td>Bresil</td>\n",
       "        <td>BR</td>\n",
       "        <td>2010</td>\n",
       "        <td>334667</td>\n",
       "        <td>76</td>\n",
       "    </tr>\n",
       "    <tr>\n",
       "        <td>Kenya</td>\n",
       "        <td>KE</td>\n",
       "        <td>2010</td>\n",
       "        <td>898531</td>\n",
       "        <td>26017</td>\n",
       "    </tr>\n",
       "    <tr>\n",
       "        <td>Mali</td>\n",
       "        <td>ML</td>\n",
       "        <td>2011</td>\n",
       "        <td>307035</td>\n",
       "        <td>2128</td>\n",
       "    </tr>\n",
       "    <tr>\n",
       "        <td>Ouganda</td>\n",
       "        <td>UG</td>\n",
       "        <td>2010</td>\n",
       "        <td>1581160</td>\n",
       "        <td>8431</td>\n",
       "    </tr>\n",
       "</table>"
      ],
      "text/plain": [
       "[('Bresil', 'BR', 2009, 309316, 85),\n",
       " ('Bresil', 'BR', 2010, 334667, 76),\n",
       " ('Kenya', 'KE', 2010, 898531, 26017),\n",
       " ('Mali', 'ML', 2011, 307035, 2128),\n",
       " ('Ouganda', 'UG', 2010, 1581160, 8431)]"
      ]
     },
     "execution_count": 9,
     "metadata": {},
     "output_type": "execute_result"
    }
   ],
   "source": [
    "%%sql\n",
    "\n",
    "SELECT * FROM palu ;"
   ]
  },
  {
   "cell_type": "code",
   "execution_count": 10,
   "metadata": {},
   "outputs": [
    {
     "name": "stdout",
     "output_type": "stream",
     "text": [
      "Done.\n"
     ]
    },
    {
     "data": {
      "text/html": [
       "<table>\n",
       "    <tr>\n",
       "        <th>pays</th>\n",
       "        <th>periode</th>\n",
       "        <th>pop</th>\n",
       "    </tr>\n",
       "    <tr>\n",
       "        <td>BR</td>\n",
       "        <td>2009</td>\n",
       "        <td>193020000</td>\n",
       "    </tr>\n",
       "    <tr>\n",
       "        <td>BR</td>\n",
       "        <td>2010</td>\n",
       "        <td>194946000</td>\n",
       "    </tr>\n",
       "    <tr>\n",
       "        <td>KE</td>\n",
       "        <td>2010</td>\n",
       "        <td>40909000</td>\n",
       "    </tr>\n",
       "    <tr>\n",
       "        <td>ML</td>\n",
       "        <td>2011</td>\n",
       "        <td>14417000</td>\n",
       "    </tr>\n",
       "    <tr>\n",
       "        <td>UG</td>\n",
       "        <td>2010</td>\n",
       "        <td>33987000</td>\n",
       "    </tr>\n",
       "</table>"
      ],
      "text/plain": [
       "[('BR', 2009, 193020000),\n",
       " ('BR', 2010, 194946000),\n",
       " ('KE', 2010, 40909000),\n",
       " ('ML', 2011, 14417000),\n",
       " ('UG', 2010, 33987000)]"
      ]
     },
     "execution_count": 10,
     "metadata": {},
     "output_type": "execute_result"
    }
   ],
   "source": [
    "%%sql\n",
    "\n",
    "SELECT * FROM demographie ;"
   ]
  },
  {
   "cell_type": "markdown",
   "metadata": {},
   "source": [
    "## Q6"
   ]
  },
  {
   "cell_type": "markdown",
   "metadata": {},
   "source": [
    "~~~sql\n",
    "SELECT * FROM palu \n",
    "    WHERE annee = 2010 AND deces >= 1000 ;\n",
    "~~~"
   ]
  },
  {
   "cell_type": "code",
   "execution_count": 8,
   "metadata": {
    "scrolled": true
   },
   "outputs": [
    {
     "name": "stdout",
     "output_type": "stream",
     "text": [
      "Done.\n"
     ]
    },
    {
     "data": {
      "text/html": [
       "<table>\n",
       "    <tr>\n",
       "        <th>nom</th>\n",
       "        <th>iso</th>\n",
       "        <th>annee</th>\n",
       "        <th>cas</th>\n",
       "        <th>deces</th>\n",
       "    </tr>\n",
       "    <tr>\n",
       "        <td>Kenya</td>\n",
       "        <td>KE</td>\n",
       "        <td>2010</td>\n",
       "        <td>898531</td>\n",
       "        <td>26017</td>\n",
       "    </tr>\n",
       "    <tr>\n",
       "        <td>Ouganda</td>\n",
       "        <td>UG</td>\n",
       "        <td>2010</td>\n",
       "        <td>1581160</td>\n",
       "        <td>8431</td>\n",
       "    </tr>\n",
       "</table>"
      ],
      "text/plain": [
       "[('Kenya', 'KE', 2010, 898531, 26017), ('Ouganda', 'UG', 2010, 1581160, 8431)]"
      ]
     },
     "execution_count": 8,
     "metadata": {},
     "output_type": "execute_result"
    }
   ],
   "source": [
    "%%sql\n",
    "\n",
    "SELECT * FROM palu \n",
    "    WHERE annee = 2010 AND deces >= 1000 ;\n"
   ]
  },
  {
   "cell_type": "markdown",
   "metadata": {},
   "source": [
    "## Q7"
   ]
  },
  {
   "cell_type": "markdown",
   "metadata": {},
   "source": [
    "~~~sql\n",
    "SELECT nom, pays, annee, cas * 1.0/ pop *100000 \n",
    "    FROM palu JOIN demographie \n",
    "        ON iso = pays AND annee = periode\n",
    "            WHERE periode = 2011 \n",
    "~~~"
   ]
  },
  {
   "cell_type": "code",
   "execution_count": 11,
   "metadata": {},
   "outputs": [
    {
     "name": "stdout",
     "output_type": "stream",
     "text": [
      "Done.\n"
     ]
    },
    {
     "data": {
      "text/html": [
       "<table>\n",
       "    <tr>\n",
       "        <th>nom</th>\n",
       "        <th>pays</th>\n",
       "        <th>annee</th>\n",
       "        <th>cas * 1.0/ pop *100000</th>\n",
       "    </tr>\n",
       "    <tr>\n",
       "        <td>Mali</td>\n",
       "        <td>ML</td>\n",
       "        <td>2011</td>\n",
       "        <td>2129.6733023513907</td>\n",
       "    </tr>\n",
       "</table>"
      ],
      "text/plain": [
       "[('Mali', 'ML', 2011, 2129.6733023513907)]"
      ]
     },
     "execution_count": 11,
     "metadata": {},
     "output_type": "execute_result"
    }
   ],
   "source": [
    "%%sql\n",
    "\n",
    "SELECT nom, pays, annee, cas * 1.0/ pop *100000 \n",
    "    FROM palu JOIN demographie \n",
    "        ON iso = pays AND annee = periode\n",
    "            WHERE periode = 2011 ;\n"
   ]
  },
  {
   "cell_type": "markdown",
   "metadata": {},
   "source": [
    "## Q8"
   ]
  },
  {
   "cell_type": "markdown",
   "metadata": {},
   "source": [
    "~~~sql\n",
    "SELECT  nom FROM palu \n",
    "    WHERE annee = 2010 \n",
    "        ORDER BY cas ASC LIMIT 1, 1 ;\n",
    "~~~"
   ]
  },
  {
   "cell_type": "code",
   "execution_count": 12,
   "metadata": {},
   "outputs": [
    {
     "name": "stdout",
     "output_type": "stream",
     "text": [
      "Done.\n"
     ]
    },
    {
     "data": {
      "text/html": [
       "<table>\n",
       "    <tr>\n",
       "        <th>nom</th>\n",
       "    </tr>\n",
       "    <tr>\n",
       "        <td>Kenya</td>\n",
       "    </tr>\n",
       "</table>"
      ],
      "text/plain": [
       "[('Kenya',)]"
      ]
     },
     "execution_count": 12,
     "metadata": {},
     "output_type": "execute_result"
    }
   ],
   "source": [
    "%%sql\n",
    "\n",
    "SELECT  nom FROM palu \n",
    "    WHERE annee = 2010 \n",
    "        ORDER BY cas ASC LIMIT 1, 1 ;"
   ]
  },
  {
   "cell_type": "markdown",
   "metadata": {},
   "source": [
    "## Q9"
   ]
  },
  {
   "cell_type": "markdown",
   "metadata": {},
   "source": [
    "Documentation du module sqlite3 sur <https://docs.python.org/3.8/library/sqlite3.html>"
   ]
  },
  {
   "cell_type": "code",
   "execution_count": 31,
   "metadata": {},
   "outputs": [
    {
     "name": "stdout",
     "output_type": "stream",
     "text": [
      "[['Bresil', 76], ['Kenya', 26017], ['Ouganda', 8431]]\n"
     ]
    }
   ],
   "source": [
    "import sqlite3                          #module de manipulations de bases sqlite en Python\n",
    "con = sqlite3.connect('mine-2016.db')  #connexion à la base\n",
    "cur = con.cursor()                     #création d'un curseur pour interroger la base\n",
    "requete = '''SELECT nom, deces FROM palu WHERE annee=2010'''\n",
    "cur.execute(requete)                   #exécution d'une requête sur la base par le biais du curseur\n",
    "con.commit()                           #enregistrement de la requête\n",
    "deces2010 = cur.fetchall()             #récupération des résultats de la requête dans deces2010\n",
    "con.close()                            #fermeture de la connexion\n",
    "deces2010 = [list(t) for t in deces2010]\n",
    "print(deces2010)                       #affichage de deces2010"
   ]
  },
  {
   "cell_type": "code",
   "execution_count": 32,
   "metadata": {},
   "outputs": [
    {
     "name": "stdout",
     "output_type": "stream",
     "text": [
      "[['Bresil', 76], ['Ouganda', 8431], ['Kenya', 26017]]\n"
     ]
    }
   ],
   "source": [
    "tri_chaine(deces2010)\n",
    "print(deces2010)"
   ]
  },
  {
   "cell_type": "markdown",
   "metadata": {},
   "source": [
    "# Partie II Modèle à compartiments"
   ]
  },
  {
   "cell_type": "markdown",
   "metadata": {},
   "source": [
    "\n",
    "Voir <https://fr.wikipedia.org/wiki/Mod%C3%A8les_compartimentaux_en_%C3%A9pid%C3%A9miologie>.\n",
    "\n",
    "Ci-dessous le graphe probabiliste d'un modèle à cinq compartiments.\n",
    "\n",
    "\n",
    "![SIRD](CompartmentalModel.jpg)\n",
    "\n",
    "Modèle à quatre compartiments (S,I,R,D)  :\n",
    "\n",
    "* $S$ : sains ou susceptibles\n",
    "* $I$ : infectés\n",
    "* $R$ : rétablis, immunisés\n",
    "* $D$ : dead, morts\n",
    "\n",
    "\n",
    "Système différentiel, traduisant la dynamique du modèle :\n",
    "\n",
    "$\\begin{cases}\n",
    "\\frac{d}{dt}S(t)=-rS(t)I(t) \\\\\n",
    "\\frac{d}{dt}I(t)=rS(t)I(t) -(a+b)I(t) \\\\\n",
    "\\frac{d}{dt}R(t)=aI(t) \\\\\n",
    "\\frac{d}{dt}D(t)=bI(t) \\\\\n",
    "\\end{cases}$\n",
    "\n",
    "\n",
    "avec :\n",
    "\n",
    "* $r$ le taux de contagion\n",
    "* $a$ le taux de guérison\n",
    "* $b$ le taux de mortalité.\n",
    "\n",
    "\n",
    "Conditions initiales à l'instant $t=0$ :\n",
    "\n",
    "* $S(0)=0,95$\n",
    "* $I(0)=0,05$\n",
    "* $R(0)=D(0)=0$"
   ]
  },
  {
   "cell_type": "markdown",
   "metadata": {},
   "source": [
    "## Q10"
   ]
  },
  {
   "cell_type": "markdown",
   "metadata": {},
   "source": [
    "Le vecteur $X = (S, I, R, D)$ permet de transformer le système différentiel en une équation différentielle vectorialisée :\n",
    "$\\frac{d}{dt}X=f(X)$.\n",
    "\n"
   ]
  },
  {
   "cell_type": "markdown",
   "metadata": {},
   "source": [
    "## Q11"
   ]
  },
  {
   "cell_type": "code",
   "execution_count": 98,
   "metadata": {},
   "outputs": [],
   "source": [
    "import numpy as np\n",
    "from typing import Callable  #pour annoter le type function\n",
    "\n",
    "def f(X:[float], r:float, a:float, b:float)->np.ndarray:   \n",
    "    \"\"\"Fonction définissant l'équation différentielle dX/dt = f(X)\n",
    "    Paramètres :\n",
    "        r, a, b : de type flottant, taux de contagion, guérison, mortalité\n",
    "        X = (S,I,R,D) de type liste de flottants\n",
    "    Valeur renvoyée : de type array\n",
    "    \"\"\"\n",
    "    (S, I, R, D) = X\n",
    "    return np.array([-r*S*I, r*S*I - (a + b)*I, a*I, b*I])\n",
    "\n",
    "def euler(f:Callable, N:int)->([float],[np.ndarray]):\n",
    "    # Parametres\n",
    "    tmax = 25.      #temps maximal\n",
    "    r = 1.          #taux de contagion\n",
    "    a = 0.4         #taux de guérison\n",
    "    b = 0.1         #taux de mortalité\n",
    "    X0 = np.array([0.95, 0.05, 0., 0.])   #vecteur X=(S,I,R,D)\n",
    " \n",
    "    #initialisation du schéma d'Euler\n",
    "    dt = tmax/N      #pas de temps du schéma d'Euler    \n",
    "    t = 0\n",
    "    X = X0\n",
    "    tt = [t]\n",
    "    XX = [X]\n",
    "\n",
    "    # Schéma  d’Euler\n",
    "    for i in range(N):\n",
    "        t = t + dt\n",
    "        X = X + dt * f(X, r, a, b)\n",
    "        tt.append(t)\n",
    "        XX.append(X)\n",
    "    return tt, XX"
   ]
  },
  {
   "cell_type": "code",
   "execution_count": 62,
   "metadata": {},
   "outputs": [
    {
     "data": {
      "text/plain": [
       "([0,\n",
       "  3.5714285714285716,\n",
       "  7.142857142857143,\n",
       "  10.714285714285715,\n",
       "  14.285714285714286,\n",
       "  17.857142857142858,\n",
       "  21.42857142857143,\n",
       "  25.000000000000004],\n",
       " array([[ 0.95      ,  0.05      ,  0.        ,  0.        ],\n",
       "        [ 0.78035714,  0.13035714,  0.07142857,  0.01785714],\n",
       "        [ 0.41705312,  0.26088056,  0.25765306,  0.06441327],\n",
       "        [ 0.02847794,  0.1835976 ,  0.63033957,  0.15758489],\n",
       "        [ 0.00980479, -0.12558211,  0.89262185,  0.22315546],\n",
       "        [ 0.01420232,  0.09427413,  0.71321884,  0.17830471],\n",
       "        [ 0.00942049, -0.06929071,  0.84789617,  0.21197404],\n",
       "        [ 0.01175175,  0.05211144,  0.74890945,  0.18722736]]))"
      ]
     },
     "execution_count": 62,
     "metadata": {},
     "output_type": "execute_result"
    }
   ],
   "source": [
    "#exemple\n",
    "euler(f,7)"
   ]
  },
  {
   "cell_type": "markdown",
   "metadata": {},
   "source": [
    "Représentation graphique de l'évolution des catégories (S,I,R,D) du modèle à 4 compartiments."
   ]
  },
  {
   "cell_type": "code",
   "execution_count": 65,
   "metadata": {},
   "outputs": [
    {
     "data": {
      "image/png": "[encoded data removed]",
      "text/plain": [
       "<Figure size 432x288 with 1 Axes>"
      ]
     },
     "metadata": {
      "needs_background": "light"
     },
     "output_type": "display_data"
    }
   ],
   "source": [
    "import numpy as np\n",
    "import matplotlib.pyplot as plt\n",
    "plt.clf()\n",
    "N = 7\n",
    "tt, XX = euler(f, N)\n",
    "mark = ['o','s','x','*']\n",
    "for k in range(4):\n",
    "    plt.scatter(tt, XX[:,k],marker=mark[k])\n",
    "N = 250\n",
    "tt, XX = euler(f, N)\n",
    "color = ['k','g','b','r']\n",
    "label = ['S','I','R','D']\n",
    "for k in range(4):\n",
    "    plt.plot(tt, XX[:,k],color=color[k], label = label[k])\n",
    "plt.legend(loc='best')\n",
    "plt.show()"
   ]
  },
  {
   "cell_type": "markdown",
   "metadata": {},
   "source": [
    "## Q12"
   ]
  },
  {
   "cell_type": "markdown",
   "metadata": {},
   "source": [
    "Pour N = 250, le pas du schéma d'Euler est plus petit (puisque pas = dt = tmax/N avec tmax = 25 dans les deux cas) donc on obtient une meilleure approximation par la méthode d'Euler au prix d'un temps de calcul plus important.\n"
   ]
  },
  {
   "cell_type": "markdown",
   "metadata": {},
   "source": [
    "## Q13"
   ]
  },
  {
   "cell_type": "markdown",
   "metadata": {},
   "source": [
    "Prise en compte du temps d'incubation $\\tau$ :\n",
    "\n",
    "Le système différentiel s'écrit désormais :\n",
    "\n",
    "$\\begin{cases}\n",
    "\\frac{d}{dt}S(t)=-rS(t)I(t-\\tau) \\\\\n",
    "\\frac{d}{dt}I(t)=rS(t)I(t-\\tau) -(a+b)I(t) \\\\\n",
    "\\frac{d}{dt}R(t)=aI(t) \\\\\n",
    "\\frac{d}{dt}D(t)=bI(t) \\\\\n",
    "\\end{cases}$\n",
    "\n",
    "\n",
    "Conditions initiales, on suppose que pour $t \\in [-\\tau,0]$ on a :\n",
    "\n",
    "* $S(t)=0,95$\n",
    "* $I(t)=0,05$\n",
    "* $R(t)=D(0)=0$\n",
    "\n"
   ]
  },
  {
   "cell_type": "code",
   "execution_count": 150,
   "metadata": {},
   "outputs": [],
   "source": [
    "def f2(X:[float], Itau:float, r:float, a:float, b:float)->np.ndarray:  \n",
    "    \"\"\"Fonction définissant l'équation différentielle dX/dt = f(X)\n",
    "    Paramètres :\n",
    "        r, a, b : de type flottant, taux de contagion, guérison, mortalité\n",
    "        Itau est la valeur de I(t - p * dt)\n",
    "        X = (S,I,R,D) de type liste de flottants\n",
    "    Valeur renvoyée : de type array\n",
    "    \"\"\"\n",
    "    (S, I, R, D) = X\n",
    "    return np.array([-r*S*Itau, r*S*Itau - (a + b)*I, a*I, b*I])\n",
    "\n",
    "def euler2(f:Callable, N:int)->([float],[np.ndarray]):\n",
    "    # Parametres\n",
    "    tmax = 25.      #temps maximal\n",
    "    r = 1.          #taux de contagion\n",
    "    a = 0.4         #taux de guérison\n",
    "    b = 0.1         #taux de mortalité\n",
    "    X0 = np.array([0.95, 0.05, 0., 0.])\n",
    "   \n",
    "    #initialisation du schéma d'Euler\n",
    "    dt = tmax/N      #pas de temps du schéma d'Euler    \n",
    "    p = 50           #nombre de pas de retard\n",
    "    t = 0\n",
    "    X = X0\n",
    "    tt = [t]\n",
    "    XX = [X]\n",
    "\n",
    "    # Schéma d’Euler\n",
    "    for i in range(N):\n",
    "        t = t + dt\n",
    "        #avec décalage (temps >= p = 0)\n",
    "        if i >= 50:\n",
    "            Itau = XX[-p][1] \n",
    "            X = X +  dt * f2(X, Itau, r, a, b)\n",
    "        #sans décalage sinon\n",
    "        else:\n",
    "            X = X +  dt * f2(X, 0.05, r, a, b)\n",
    "        tt.append(t)\n",
    "        XX.append(X)\n",
    "    return tt, XX"
   ]
  },
  {
   "cell_type": "markdown",
   "metadata": {},
   "source": [
    "Evolution du modèle avec taux d'incubation pour un pas N croissant"
   ]
  },
  {
   "cell_type": "code",
   "execution_count": 149,
   "metadata": {
    "scrolled": true
   },
   "outputs": [
    {
     "name": "stdout",
     "output_type": "stream",
     "text": [
      "N =10 X=(S,I,R,D)=[0.2499218  0.02776904 0.57784733 0.14446183]\n",
      "N =20 X=(S,I,R,D)=[0.26130585 0.02903398 0.56772813 0.14193203]\n",
      "N =30 X=(S,I,R,D)=[0.26498509 0.02944278 0.5644577  0.14111443]\n",
      "N =40 X=(S,I,R,D)=[0.26680393 0.02964486 0.56284096 0.14071024]\n",
      "N =50 X=(S,I,R,D)=[0.2678887  0.02976538 0.56187674 0.14046918]\n",
      "N =60 X=(S,I,R,D)=[0.24123236 0.04222103 0.57323728 0.14330932]\n",
      "N =70 X=(S,I,R,D)=[0.22368427 0.03947568 0.58947204 0.14736801]\n",
      "N =80 X=(S,I,R,D)=[0.21521869 0.03524511 0.59962897 0.14990724]\n",
      "N =90 X=(S,I,R,D)=[0.21113074 0.03196282 0.60552516 0.15138129]\n",
      "N =100 X=(S,I,R,D)=[0.20924834 0.02955866 0.60895441 0.1522386 ]\n"
     ]
    }
   ],
   "source": [
    "#Exemple 2, \n",
    "for N in range(10, 101, 10):\n",
    "    print(f\"N ={N}\", f\"X=(S,I,R,D)={euler2(f2,N)[1][-1]}\")"
   ]
  },
  {
   "cell_type": "markdown",
   "metadata": {},
   "source": [
    "## Q14"
   ]
  },
  {
   "cell_type": "markdown",
   "metadata": {},
   "source": [
    "Calcul du temps d'incubation par une intégrale à densité.\n",
    "\n",
    "Le système différentiel s'écrit désormais :\n",
    "\n",
    "$\\begin{cases}\n",
    "\\frac{d}{dt}S(t)=-rS(t)\\int_{0}^{\\tau}I(t-s)h(s) ds \\\\\n",
    "\\frac{d}{dt}I(t)=rS(t)\\int_{0}^{\\tau}I(t-s)h(s) ds -(a+b)I(t) \\\\\n",
    "\\frac{d}{dt}R(t)=aI(t) \\\\\n",
    "\\frac{d}{dt}D(t)=bI(t) \\\\\n",
    "\\end{cases}$\n",
    "\n",
    "\n",
    "Conditions initiale, on suppose que pour $t \\in [-\\tau,0]$ on a :\n",
    "\n",
    "* $S(t)=0,95$\n",
    "* $I(t)=0,05$\n",
    "* $R(t)=D(0)=0$\n"
   ]
  },
  {
   "cell_type": "code",
   "execution_count": 162,
   "metadata": {},
   "outputs": [],
   "source": [
    "import numpy as np\n",
    "\n",
    "def h(t, mu, sigma):\n",
    "    \"\"\"Fonction de densité de la loi normale centrée réduite d'espérance mu\n",
    "    et d'écart-type sigma\"\"\"\n",
    "    return 1/(sigma * np.sqrt(2*np.pi))*np.exp(-((t -mu) / sigma)**2/2)\n",
    "\n",
    "\n",
    "def f2(X:[float], Itau:float, r:float, a:float, b:float)->np.ndarray:  \n",
    "    \"\"\"Fonction définissant l'équation différentielle dX/dt = f(X)\n",
    "    Paramètres :\n",
    "        r, a, b : de type flottant, taux de contagion, guérison, mortalité\n",
    "        Itau est la valeur de integrale(0,tau, I(t-s)*h(s))\n",
    "        X = (S,I,R,D) de type liste de flottants\n",
    "    Valeur renvoyée : de type array\n",
    "    \"\"\"\n",
    "    (S, I, R, D) = X\n",
    "    return np.array([-r*S*Itau, r*S*Itau - (a + b)*I, a*I, b*I])\n",
    "\n",
    "\n",
    "def euler3(f:Callable, N:int)->([float],[np.ndarray]):\n",
    "    # Parametres\n",
    "    tmax = 25.      #temps maximal\n",
    "    r = 1.          #taux de contagion\n",
    "    a = 0.4         #taux de guérison\n",
    "    b = 0.1         #taux de mortalité\n",
    "    X0 = np.array([0.95, 0.05, 0., 0.])\n",
    " \n",
    "    #initialisation du schéma d'Euler\n",
    "    dt = tmax/N      #pas de temps du schéma d'Euler    \n",
    "    p = 50           #nombre de pas de retard\n",
    "    t = 0\n",
    "    X = X0\n",
    "    tt = [t]\n",
    "    XX = [X]\n",
    "    \n",
    "    #paramètres de la fonction de densité\n",
    "    mu = (p * dt) / 2  #espérance (moitié de tau = (p *dt) / 2)\n",
    "    sigma = (p * dt) / 6 #écart-type (tiers  de esperance / 2)\n",
    "    # Schéma d’Euler\n",
    "    for i in range(N):\n",
    "        t = t + dt\n",
    "        #décalage si temps >= 50\n",
    "        if i >= 50:\n",
    "            #approximation de Integrale(0,tau,I(t-s)*h(s)) par la méthode des rectangles\n",
    "            Itau = 0\n",
    "            for j in range(p):\n",
    "                Itau += XX[-1 - j][1] * h(j*dt, mu, sigma)\n",
    "            Itau = Itau * dt\n",
    "            X = X + dt * f2(X, Itau, r, a, b)\n",
    "        #pas de décalage\n",
    "        else:\n",
    "            X = X + dt * f2(X, 0.05, r, a, b)\n",
    "        tt.append(t)\n",
    "        XX.append(X)\n",
    "    return tt, XX"
   ]
  },
  {
   "cell_type": "code",
   "execution_count": 163,
   "metadata": {},
   "outputs": [
    {
     "name": "stdout",
     "output_type": "stream",
     "text": [
      "N =10 X=(S,I,R,D)=[0.2499218  0.02776904 0.57784733 0.14446183]\n",
      "N =20 X=(S,I,R,D)=[0.26130585 0.02903398 0.56772813 0.14193203]\n",
      "N =30 X=(S,I,R,D)=[0.26498509 0.02944278 0.5644577  0.14111443]\n",
      "N =40 X=(S,I,R,D)=[0.26680393 0.02964486 0.56284096 0.14071024]\n",
      "N =50 X=(S,I,R,D)=[0.2678887  0.02976538 0.56187674 0.14046918]\n",
      "N =60 X=(S,I,R,D)=[0.26055832 0.03199848 0.56595456 0.14148864]\n",
      "N =70 X=(S,I,R,D)=[0.25512579 0.03011588 0.57180667 0.14295167]\n",
      "N =80 X=(S,I,R,D)=[0.24896389 0.02925372 0.57742591 0.14435648]\n",
      "N =90 X=(S,I,R,D)=[0.24098592 0.02913883 0.5839002  0.14597505]\n",
      "N =100 X=(S,I,R,D)=[0.23287764 0.02837823 0.5909953  0.14774883]\n"
     ]
    }
   ],
   "source": [
    "#Exemple 2, \n",
    "for N in range(10, 101, 10):\n",
    "    print(f\"N ={N}\", f\"X=(S,I,R,D)={euler3(f2,N)[1][-1]}\")"
   ]
  },
  {
   "cell_type": "markdown",
   "metadata": {},
   "source": [
    "# Méthodes par automates cellulaires"
   ]
  },
  {
   "cell_type": "markdown",
   "metadata": {},
   "source": [
    "## Q15"
   ]
  },
  {
   "cell_type": "code",
   "execution_count": 164,
   "metadata": {},
   "outputs": [],
   "source": [
    "def grille(n) :\n",
    "    \"\"\"Prend en paramètre un entier positif n\n",
    "    Renvoie une liste de  n listes de même taille n remplies de 0\"\"\"\n",
    "    M = []\n",
    "    for i in range(n) :\n",
    "        L=[ ]\n",
    "        for j in range(n): L.append(0)\n",
    "        M.append(L)\n",
    "    return M"
   ]
  },
  {
   "cell_type": "code",
   "execution_count": 139,
   "metadata": {},
   "outputs": [
    {
     "data": {
      "text/plain": [
       "[[0, 0, 0], [0, 0, 0], [0, 0, 0]]"
      ]
     },
     "execution_count": 139,
     "metadata": {},
     "output_type": "execute_result"
    }
   ],
   "source": [
    "grille(3)"
   ]
  },
  {
   "cell_type": "markdown",
   "metadata": {},
   "source": [
    "## Q16"
   ]
  },
  {
   "cell_type": "code",
   "execution_count": 183,
   "metadata": {},
   "outputs": [],
   "source": [
    "import random as rd \n",
    "\n",
    "def init(n:int)->[[int]]:\n",
    "    \"\"\"Initialise une grille de taille n remplie de 0\n",
    "    avec une cellule choisie aléatoirement qui est infectée (valeur 1)\n",
    "    \"\"\"\n",
    "    g = grille(n)\n",
    "    x, y = rd.randrange(0, n), rd.randrange(0, n)\n",
    "    g[y][x] = 1\n",
    "    return g"
   ]
  },
  {
   "cell_type": "markdown",
   "metadata": {},
   "source": [
    "## Q17"
   ]
  },
  {
   "cell_type": "code",
   "execution_count": 184,
   "metadata": {},
   "outputs": [],
   "source": [
    "def compte(G:[[int]])->[int]:\n",
    "    \"\"\"Prend en paramètre une grille G\n",
    "    Renvoie une liste des effectifs de chaque état :\n",
    "    0 : sain, 1: infecté, 2: rétabli, 3 : décédé\"\"\"\n",
    "    etat = [0 for _ in range(4)]\n",
    "    n = len(G)\n",
    "    for y in range(n):\n",
    "        for x in range(n):\n",
    "            etat[G[y][x]] += 1\n",
    "    return etat"
   ]
  },
  {
   "cell_type": "markdown",
   "metadata": {
    "collapsed": true
   },
   "source": [
    "## Q18 et Q19"
   ]
  },
  {
   "cell_type": "code",
   "execution_count": 185,
   "metadata": {},
   "outputs": [],
   "source": [
    "def est_exposee(G:[[int]], i:int, j:int)->True:\n",
    "    \"\"\"Retourne un booleen indiquant si une case en ligne i et colonne j\n",
    "    comporte  au moins une case infectée dans son voisinage \"\"\"\n",
    "    n = len(G)\n",
    "    if i == 0 and j == 0:\n",
    "        return (G[0][1]-1)*(G[1][1]-1)*(G[1][0]-1) == 0\n",
    "    elif i == 0 and j == n-1:\n",
    "        return (G[0][n-2]-1)*(G[1][n-2]-1)*(G[1][n-1]-1) == 0\n",
    "    elif i == n-1 and j == 0:\n",
    "        return (G[n-1][1]-1)*(G[n-2][1]-1)*(G[n-2][0]-1) == 0\n",
    "    elif i == n-1 and j == n-1:\n",
    "        return (G[n-1][n-2]-1)*(G[n-2][n-2]-1)*(G[n-2][n-1]-1) == 0\n",
    "    elif i == 0:\n",
    "        return (G[0][j+1]-1)*(G[0][j-1]-1)*(G[1][j-1]-1)*(G[1][j]-1)*(G[1][j+1]-1)== 0\n",
    "    elif i == n-1:\n",
    "        return (G[n-1][j-1]-1)*(G[n-2][j-1]-1)*(G[n-2][j]-1)*(G[n-2][j+1]-1)*(G[n-1][j+1]-1) == 0\n",
    "    elif j == 0:\n",
    "        return (G[i-1][0]-1)*(G[i-1][1]-1)*(G[i][1]-1)*(G[i+1][1]-1)*(G[i+1][0]-1) == 0\n",
    "    elif j == n-1:\n",
    "        return (G[i-1][n-1]-1)*(G[i-1][n-2]-1)*(G[i][n-2]-1)*(G[i+1][n-2]-1)*(G[i+1][n-1]-1) == 0\n",
    "    else:\n",
    "        return (G[i-1][j-1]-1)*(G[i-1][j]-1)*(G[i-1][j+1]-1)*(G[i][j-1]-1)*(G[i][j+1]-1) * (G[i+1][j-1]-1)*(G[i+1][j]-1)*(G[i+1][j+1]-1) == 0"
   ]
  },
  {
   "cell_type": "markdown",
   "metadata": {},
   "source": [
    "## Q20"
   ]
  },
  {
   "cell_type": "code",
   "execution_count": 186,
   "metadata": {},
   "outputs": [],
   "source": [
    "import random as rd\n",
    "\n",
    "def bernoulli(p:float)->int:\n",
    "    \"\"\"Simule une va de Bernoulli de paramètre p\"\"\"\n",
    "    if rd.random() <= p:\n",
    "        return 1\n",
    "    return 0"
   ]
  },
  {
   "cell_type": "code",
   "execution_count": 187,
   "metadata": {},
   "outputs": [],
   "source": [
    "def suivant(G:[[int]], p1:float, p2:float)->None:\n",
    "    \"\"\"Fait évoluer une grille G selon les règles de transition\n",
    "    avec les probabilités p1 et p2\"\"\"\n",
    "    n = len(G)\n",
    "    for i in range(n):\n",
    "        for j in range(n):\n",
    "            etat = G[i][j]\n",
    "            if etat == 1:\n",
    "                etat += 2 - bernoulli(1 - p1)\n",
    "            elif etat == 0 and est_exposee(G, i, j):\n",
    "                etat = bernoulli(p2)\n",
    "            G[i][j] = etat    "
   ]
  },
  {
   "cell_type": "markdown",
   "metadata": {},
   "source": [
    "## Q21"
   ]
  },
  {
   "cell_type": "code",
   "execution_count": 188,
   "metadata": {},
   "outputs": [],
   "source": [
    "def simulation(n:int, p1:float, p2:float)->[float]:\n",
    "    \"\"\"Réalise une simulation complètee pour une grille nxn\n",
    "    avec les probabilités p1 et p2\n",
    "    et renvoie la liste des fréquences des 4 états\"\"\"\n",
    "    #initialisation de la grille\n",
    "    G = init(n)\n",
    "    #tant qu'il y a au moins une case infectée, la grille peut évoluer\n",
    "    while compte(G)[1] >= 1: \n",
    "        #mise à jour de la grille\n",
    "        suivant(G, p1, p2)\n",
    "    #renvoie les fréquences de chaque état\n",
    "    return [e/(n*n) for e in compte(G)]"
   ]
  },
  {
   "cell_type": "code",
   "execution_count": 191,
   "metadata": {},
   "outputs": [
    {
     "data": {
      "text/plain": [
       "[0.77, 0.0, 0.15, 0.08]"
      ]
     },
     "execution_count": 191,
     "metadata": {},
     "output_type": "execute_result"
    }
   ],
   "source": [
    "simulation(10, 0.4, 0.3)"
   ]
  },
  {
   "cell_type": "markdown",
   "metadata": {},
   "source": [
    "## Q22"
   ]
  },
  {
   "cell_type": "markdown",
   "metadata": {},
   "source": [
    "A la fin d'une simulation on a x1 = 0 et x0 + x1 + x2 + x3 = 1 et\n",
    "x_atteinte = x2 + x3 puisque les cases infectées évoluent vers l'état rétabli ou décédé qui sont des états absorbants."
   ]
  },
  {
   "cell_type": "code",
   "execution_count": 207,
   "metadata": {},
   "outputs": [
    {
     "data": {
      "image/png": "[encoded data removed]",
      "text/plain": [
       "<Figure size 432x288 with 1 Axes>"
      ]
     },
     "metadata": {
      "needs_background": "light"
     },
     "output_type": "display_data"
    }
   ],
   "source": [
    "p1 = 0.5\n",
    "n = 50\n",
    "nbsimul = 100\n",
    "pp2 = np.linspace(0, 1, 20)\n",
    "moy = [sum(sum(simulation(n,p1,p2)[2:]) for i in range(nbsimul))/nbsimul  for p2 in pp2]\n",
    "plt.plot(pp2, moy)\n",
    "plt.show()"
   ]
  },
  {
   "cell_type": "code",
   "execution_count": 150,
   "metadata": {},
   "outputs": [
    {
     "data": {
      "text/plain": [
       "[0.002500000000000002,\n",
       " 0.003150000000000002,\n",
       " 0.004350000000000003,\n",
       " 0.007024999999999992,\n",
       " 0.013599999999999984,\n",
       " 0.03582499999999998,\n",
       " 0.1369249999999999,\n",
       " 0.3340000000000002,\n",
       " 0.6687249999999999,\n",
       " 0.6690249999999999,\n",
       " 0.773125,\n",
       " 0.7495250000000003,\n",
       " 0.8457500000000004,\n",
       " 0.8475249999999999,\n",
       " 0.8710249999999996,\n",
       " 0.8931999999999997,\n",
       " 0.955525,\n",
       " 0.9468250000000001,\n",
       " 0.9462250000000005,\n",
       " 0.9601]"
      ]
     },
     "execution_count": 150,
     "metadata": {},
     "output_type": "execute_result"
    }
   ],
   "source": [
    "moy"
   ]
  },
  {
   "cell_type": "markdown",
   "metadata": {},
   "source": [
    "## Q23"
   ]
  },
  {
   "cell_type": "code",
   "execution_count": 202,
   "metadata": {},
   "outputs": [],
   "source": [
    "def seuil(Lp2:[float], Lxa:[float], s = 0.5)->[float]:\n",
    "    \"\"\"Meilleur encadrement possible de la valeur de x égale à s = 0.5\n",
    "    par dichotomie à partir des listes de probabilités Lp2 et de valeurs\n",
    "    atteintes Lxa\"\"\"\n",
    "    debut, fin = 0, len(Lp2)\n",
    "    while fin - debut > 1:\n",
    "        m = (debut + fin)//2\n",
    "        if Lxa[m] > s:\n",
    "            fin = m\n",
    "        else:\n",
    "            debut = m\n",
    "    return [Lxa[debut], Lxa[fin]], [Lp2[debut], Lp2[fin]]\n",
    "            "
   ]
  },
  {
   "cell_type": "markdown",
   "metadata": {},
   "source": [
    "Test de la fonction précédente sur un encadrement de $\\sqrt{2}$ solution de $x^2=2$ dans l'intervalle $[1;2]$"
   ]
  },
  {
   "cell_type": "code",
   "execution_count": 199,
   "metadata": {},
   "outputs": [],
   "source": [
    "x = np.linspace(1, 2, 1001)\n",
    "y = x**2"
   ]
  },
  {
   "cell_type": "code",
   "execution_count": 200,
   "metadata": {},
   "outputs": [
    {
     "data": {
      "text/plain": [
       "([1.9993960000000004, 2.002225], [1.4140000000000001, 1.415])"
      ]
     },
     "execution_count": 200,
     "metadata": {},
     "output_type": "execute_result"
    }
   ],
   "source": [
    "seuil(x, y, 2)"
   ]
  },
  {
   "cell_type": "markdown",
   "metadata": {},
   "source": [
    "## Q24"
   ]
  },
  {
   "cell_type": "code",
   "execution_count": 204,
   "metadata": {},
   "outputs": [],
   "source": [
    "def init_vac(n:int, q:float)->[[int]]:\n",
    "    \"\"\"Immunise aléatoirement une fraction q\n",
    "    d'une grille de taille n\"\"\"\n",
    "    G = init(n)\n",
    "    nvac = int(q * n**2)\n",
    "    k = 0\n",
    "    while k < nvac:\n",
    "        i = rd.randrange(n)\n",
    "        j = rd.randrange(n)\n",
    "        if G[i][j] == 0:\n",
    "            G[i][j] = 2\n",
    "        k += 1\n",
    "    return G"
   ]
  },
  {
   "cell_type": "markdown",
   "metadata": {},
   "source": [
    "On ne peut pas supprimer le test `if G[i][j] == 0:` car on effectue des tirages avec remise parmi les $n^2$ cases et donc on peut retomber sur une case déjà immunisée"
   ]
  },
  {
   "cell_type": "markdown",
   "metadata": {},
   "source": [
    "L'appel `init_vac(5, 0.2)` retourne une grille de $25$ cases avec $25 \\times 0,2 = 5$ cases immunisées choisies aléatoirement."
   ]
  },
  {
   "cell_type": "code",
   "execution_count": 205,
   "metadata": {},
   "outputs": [
    {
     "data": {
      "text/plain": [
       "[[0, 0, 0, 0, 2],\n",
       " [0, 0, 0, 0, 0],\n",
       " [0, 0, 1, 0, 2],\n",
       " [2, 0, 0, 0, 0],\n",
       " [0, 0, 0, 2, 2]]"
      ]
     },
     "execution_count": 205,
     "metadata": {},
     "output_type": "execute_result"
    }
   ],
   "source": [
    "init_vac(5, 0.2)"
   ]
  }
 ],
 "metadata": {
  "kernelspec": {
   "display_name": "Python 3.8.5 64-bit",
   "language": "python",
   "name": "python38564bit5df26436d9ea44868d95f1b30c3d2682"
  },
  "language_info": {
   "codemirror_mode": {
    "name": "ipython",
    "version": 3
   },
   "file_extension": ".py",
   "mimetype": "text/x-python",
   "name": "python",
   "nbconvert_exporter": "python",
   "pygments_lexer": "ipython3",
   "version": "3.8.8"
  }
 },
 "nbformat": 4,
 "nbformat_minor": 1
}
