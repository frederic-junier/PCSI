{
 "cells": [
  {
   "cell_type": "code",
   "execution_count": 4,
   "metadata": {},
   "outputs": [],
   "source": [
    "from random import randint"
   ]
  },
  {
   "cell_type": "markdown",
   "metadata": {},
   "source": [
    "## Outils "
   ]
  },
  {
   "cell_type": "code",
   "execution_count": 10,
   "metadata": {},
   "outputs": [],
   "source": [
    "def dimensions(M):\n",
    "    \"\"\"Retourne le couple (nbligne, nbcolonnes) carctérisant\n",
    "    la dimension d'une matrice\"\"\"\n",
    "    lignes = len(M)\n",
    "    colonnes = len(M[0])\n",
    "    assert all(len(ligne) == colonnes for ligne in M), \"M n'est pas une matrice\"\n",
    "    return (lignes, colonnes)"
   ]
  },
  {
   "cell_type": "code",
   "execution_count": 6,
   "metadata": {},
   "outputs": [
    {
     "ename": "AssertionError",
     "evalue": "M n'est pas une matrice",
     "output_type": "error",
     "traceback": [
      "\u001b[0;31m---------------------------------------------------------------------------\u001b[0m",
      "\u001b[0;31mAssertionError\u001b[0m                            Traceback (most recent call last)",
      "\u001b[0;32m<ipython-input-6-cea84803df16>\u001b[0m in \u001b[0;36m<module>\u001b[0;34m\u001b[0m\n\u001b[0;32m----> 1\u001b[0;31m \u001b[0mdimensions\u001b[0m\u001b[0;34m(\u001b[0m\u001b[0;34m[\u001b[0m\u001b[0;34m[\u001b[0m\u001b[0;36m1\u001b[0m\u001b[0;34m,\u001b[0m\u001b[0;36m2\u001b[0m\u001b[0;34m,\u001b[0m\u001b[0;36m3\u001b[0m\u001b[0;34m]\u001b[0m\u001b[0;34m,\u001b[0m\u001b[0;34m[\u001b[0m\u001b[0;36m4\u001b[0m\u001b[0;34m,\u001b[0m\u001b[0;36m5\u001b[0m\u001b[0;34m]\u001b[0m\u001b[0;34m]\u001b[0m\u001b[0;34m)\u001b[0m\u001b[0;34m\u001b[0m\u001b[0;34m\u001b[0m\u001b[0m\n\u001b[0m",
      "\u001b[0;32m<ipython-input-5-16c2f578a969>\u001b[0m in \u001b[0;36mdimensions\u001b[0;34m(M)\u001b[0m\n\u001b[1;32m      4\u001b[0m     \u001b[0mlignes\u001b[0m \u001b[0;34m=\u001b[0m \u001b[0mlen\u001b[0m\u001b[0;34m(\u001b[0m\u001b[0mM\u001b[0m\u001b[0;34m)\u001b[0m\u001b[0;34m\u001b[0m\u001b[0;34m\u001b[0m\u001b[0m\n\u001b[1;32m      5\u001b[0m     \u001b[0mcolonnes\u001b[0m \u001b[0;34m=\u001b[0m \u001b[0mlen\u001b[0m\u001b[0;34m(\u001b[0m\u001b[0mM\u001b[0m\u001b[0;34m[\u001b[0m\u001b[0;36m0\u001b[0m\u001b[0;34m]\u001b[0m\u001b[0;34m)\u001b[0m\u001b[0;34m\u001b[0m\u001b[0;34m\u001b[0m\u001b[0m\n\u001b[0;32m----> 6\u001b[0;31m     \u001b[0;32massert\u001b[0m \u001b[0mall\u001b[0m\u001b[0;34m(\u001b[0m\u001b[0mlen\u001b[0m\u001b[0;34m(\u001b[0m\u001b[0mligne\u001b[0m\u001b[0;34m)\u001b[0m \u001b[0;34m==\u001b[0m \u001b[0mcolonnes\u001b[0m \u001b[0;32mfor\u001b[0m \u001b[0mligne\u001b[0m \u001b[0;32min\u001b[0m \u001b[0mM\u001b[0m\u001b[0;34m)\u001b[0m\u001b[0;34m,\u001b[0m \u001b[0;34m\"M n'est pas une matrice\"\u001b[0m\u001b[0;34m\u001b[0m\u001b[0;34m\u001b[0m\u001b[0m\n\u001b[0m\u001b[1;32m      7\u001b[0m     \u001b[0;32mreturn\u001b[0m \u001b[0;34m(\u001b[0m\u001b[0mlignes\u001b[0m\u001b[0;34m,\u001b[0m \u001b[0mcolonnes\u001b[0m\u001b[0;34m)\u001b[0m\u001b[0;34m\u001b[0m\u001b[0;34m\u001b[0m\u001b[0m\n",
      "\u001b[0;31mAssertionError\u001b[0m: M n'est pas une matrice"
     ]
    }
   ],
   "source": [
    "dimensions([[1,2,3],[4,5]])"
   ]
  },
  {
   "cell_type": "code",
   "execution_count": null,
   "metadata": {},
   "outputs": [],
   "source": [
    "dimensions([[1,2,3],[4,5,6]])"
   ]
  },
  {
   "cell_type": "code",
   "execution_count": 8,
   "metadata": {},
   "outputs": [],
   "source": [
    "def matrice_nulle(lignes, colonnes):\n",
    "    return  [ [0] * colonnes for _ in range(lignes)]"
   ]
  },
  {
   "cell_type": "code",
   "execution_count": null,
   "metadata": {},
   "outputs": [],
   "source": [
    "matrice_nulle(4, 3)"
   ]
  },
  {
   "cell_type": "code",
   "execution_count": 9,
   "metadata": {},
   "outputs": [],
   "source": [
    "def copie_matrice(M):\n",
    "    (lignes, colonnes) = dimensions(M)\n",
    "    N = matrice_nulle(lignes, colonnes)\n",
    "    for lig in range(lignes):\n",
    "        for col in range(colonnes):\n",
    "            N[lig][col] = M[lig][col]\n",
    "    return N"
   ]
  },
  {
   "cell_type": "code",
   "execution_count": 16,
   "metadata": {},
   "outputs": [],
   "source": [
    "def echange_ligne(M, i, j):\n",
    "    \"\"\"Procédure qui échange les lignes M[i] et M[j] de la matrice M\"\"\"\n",
    "    M[i], M[j] = M[j], M[i]"
   ]
  },
  {
   "cell_type": "code",
   "execution_count": 17,
   "metadata": {},
   "outputs": [],
   "source": [
    "def transvection(M, i, j, mu):\n",
    "    \"\"\"M[i] <-  M[i] + mu * M[j]\"\"\"\n",
    "    M[i] = [M[i][k]  + mu * M[j][k] for k in range(len(M[i]))]\n",
    "    \n",
    "def transvection2(M, i, j, mu):\n",
    "    \"\"\"M[i] <-  M[i] + mu * M[j]\"\"\"\n",
    "    M[i] = [e +  mu  * f for (e, f) in zip(M[i], M[j])]"
   ]
  },
  {
   "cell_type": "code",
   "execution_count": null,
   "metadata": {},
   "outputs": [],
   "source": [
    "M = [[randint(0, 1) for _ in range(4)] for _ in range(3)]\n",
    "M"
   ]
  },
  {
   "cell_type": "code",
   "execution_count": null,
   "metadata": {},
   "outputs": [],
   "source": [
    "transvection(M, 0, 1, 2)\n",
    "M"
   ]
  },
  {
   "cell_type": "code",
   "execution_count": null,
   "metadata": {},
   "outputs": [],
   "source": [
    "transvection(M, 0, 1, 2)\n",
    "M"
   ]
  },
  {
   "cell_type": "code",
   "execution_count": null,
   "metadata": {},
   "outputs": [],
   "source": [
    "def dilatation(M, i, coef):\n",
    "    \"\"\"M[i] <-  M[i] * coef\"\"\"\n",
    "    M[i] = [e * coef for e in M[i]]"
   ]
  },
  {
   "cell_type": "markdown",
   "metadata": {},
   "source": [
    "## Pivot de Gauss version simple"
   ]
  },
  {
   "cell_type": "code",
   "execution_count": null,
   "metadata": {},
   "outputs": [],
   "source": [
    "def pivot_gauss(A, B):\n",
    "    (lignes, colonnes) = dimensions(A)\n",
    "    A2 = copie_matrice(A)\n",
    "    B2 = copie_matrice(B)\n",
    "    #application des transvections pour diagonaliser la matrice\n",
    "    for j in range(colonnes):\n",
    "        pivot = A2[j][j]\n",
    "        for i in range(lignes):\n",
    "            if i != j:\n",
    "                mu = - A2[i][j]/ pivot #coefficient de transvection\n",
    "                transvection(A2, i, j, mu)\n",
    "                transvection(B2, i, j, mu)\n",
    "    #application des dilatations pour transformer A2 en matrice identité\n",
    "    for i in range(lignes):\n",
    "        coef = 1/ A2[i][i] #coefficient de dilatation\n",
    "        dilatation(A2, i, coef)\n",
    "        dilatation(B2, i, coef)\n",
    "    return (A2,B2)"
   ]
  },
  {
   "cell_type": "code",
   "execution_count": null,
   "metadata": {},
   "outputs": [],
   "source": [
    "pivot_gauss([[2,2,-3],[-2,-1,-3 ],[6,4,4]],[[2],[-5], [16]])"
   ]
  },
  {
   "cell_type": "code",
   "execution_count": null,
   "metadata": {},
   "outputs": [],
   "source": [
    "pivot_gauss([[2, 2, -3],[0, 1, -6], [0, 0, 1]],[[2], [-3], [4]])"
   ]
  },
  {
   "cell_type": "markdown",
   "metadata": {},
   "source": [
    "## Pivot partiel"
   ]
  },
  {
   "cell_type": "code",
   "execution_count": 14,
   "metadata": {},
   "outputs": [],
   "source": [
    "def pivot_partiel(M, j):\n",
    "    imax  = j\n",
    "    pivot = abs(M[j][j])\n",
    "    for i in range(j, len(M)):\n",
    "        if abs(M[i][j]) > pivot:\n",
    "            pivot = abs(M[i][j])\n",
    "            imax = i\n",
    "    return imax"
   ]
  },
  {
   "cell_type": "code",
   "execution_count": null,
   "metadata": {},
   "outputs": [],
   "source": [
    "def pivot_gauss_complet(A, B):\n",
    "    (lignes, colonnes) = dimensions(A)\n",
    "    #copie des matrices A et B\n",
    "    A2 = copie_matrice(A)\n",
    "    B2 = copie_matrice(B)\n",
    "    #application des transvections pour diagonaliser la matrice\n",
    "    for j in range(colonnes):\n",
    "        ipivot = pivot_partiel(A2, j)\n",
    "        echange_ligne(A2, j, ipivot)\n",
    "        echange_ligne(B2, j, ipivot)\n",
    "        for i in range(lignes):\n",
    "            if i != j:\n",
    "                mu = - A2[i][j]/ pivot #coefficient de transvection\n",
    "                transvection(A2, i, j, mu)\n",
    "                transvection(B2, i, j, mu)\n",
    "    #application des dilatations pour transformer A2 en matrice identité\n",
    "    for i in range(lignes):\n",
    "        coef = 1/ A2[i][i] #coefficient de dilatation\n",
    "        dilatation(A2, i, coef)\n",
    "        dilatation(B2, i, coef)\n",
    "    return (A2,B2)"
   ]
  },
  {
   "cell_type": "markdown",
   "metadata": {},
   "source": [
    "## Pivot de Gauss version compliquée"
   ]
  },
  {
   "cell_type": "code",
   "execution_count": 19,
   "metadata": {},
   "outputs": [],
   "source": [
    "def pivot_gauss_complique(A, B):\n",
    "    \"\"\"Résolution uniquement pour B matrice colonne\n",
    "    La première phase consiste à triangulariser A\"\"\"\n",
    "    (lignes, colonnes) = dimensions(A)\n",
    "    #copie des matrices A et B\n",
    "    A2 = copie_matrice(A)\n",
    "    B2 = copie_matrice(B)\n",
    "    #triangularisation de la matrice A2\n",
    "    for j in range(colonnes):\n",
    "        ipivot = pivot_partiel(A2, j)\n",
    "        if ipivot != j:\n",
    "            echange_ligne(A2, j, ipivot)\n",
    "            echange_ligne(B2, j, ipivot)\n",
    "        pivot = A2[j][j]\n",
    "        for i in range(j + 1, lignes):  \n",
    "            mu = - A2[i][j]/ pivot #coefficient de transvection\n",
    "            transvection(A2,i,j,mu)\n",
    "            #for k in range(j, colonnes):\n",
    "            #    A2[i][k] = A2[i][k] + mu * A2[j][k]\n",
    "            transvection(B2,i, j, mu)\n",
    "            #B2[i][0] =  B2[i][0] + mu * B2[j][0]\n",
    "    print(A2, B2)\n",
    "    #Phase de remontée\n",
    "    C = [ [0] for _ in range(lignes) ] #vecteur colonne des solutions\n",
    "    for i in range(lignes - 1, -1, -1):\n",
    "        C[i][0] = (B2[i][0] - sum(A2[i][k] * C[k][0] for k in range(i + 1, colonnes)))/A2[i][i]\n",
    "    return C"
   ]
  },
  {
   "cell_type": "code",
   "execution_count": 20,
   "metadata": {},
   "outputs": [
    {
     "name": "stdout",
     "output_type": "stream",
     "text": [
      "[[6, 4, 4], [0.0, 0.6666666666666667, -4.333333333333333], [0.0, 0.0, 0.4999999999999989]] [[16], [-3.333333333333333], [1.9999999999999991]]\n"
     ]
    },
    {
     "data": {
      "text/plain": [
       "[[-14.000000000000036], [21.000000000000046], [4.000000000000007]]"
      ]
     },
     "execution_count": 20,
     "metadata": {},
     "output_type": "execute_result"
    }
   ],
   "source": [
    "pivot_gauss_complique([[2,2,-3],[-2,-1,-3 ],[6,4,4]],[[2],[-5], [16]])"
   ]
  }
 ],
 "metadata": {
  "kernelspec": {
   "display_name": "Python 3",
   "language": "python",
   "name": "python3"
  },
  "language_info": {
   "codemirror_mode": {
    "name": "ipython",
    "version": 3
   },
   "file_extension": ".py",
   "mimetype": "text/x-python",
   "name": "python",
   "nbconvert_exporter": "python",
   "pygments_lexer": "ipython3",
   "version": "3.8.8"
  }
 },
 "nbformat": 4,
 "nbformat_minor": 2
}
