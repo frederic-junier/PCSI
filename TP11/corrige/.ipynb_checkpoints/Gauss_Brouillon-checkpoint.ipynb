{
 "cells": [
  {
   "cell_type": "code",
   "execution_count": 6,
   "metadata": {
    "collapsed": false
   },
   "outputs": [],
   "source": [
    "def echange_ligne(A,i, j):\n",
    "    A[i], A[j] = A[j], A[i]"
   ]
  },
  {
   "cell_type": "code",
   "execution_count": 11,
   "metadata": {
    "collapsed": true
   },
   "outputs": [],
   "source": [
    "def transvection(A, i, j, mu):\n",
    "    L1, L2 = A[i], A[j]\n",
    "    for k in range(len(L1)):\n",
    "        L1[k] = L1[k] + mu * L2[k]"
   ]
  },
  {
   "cell_type": "code",
   "execution_count": 12,
   "metadata": {
    "collapsed": true
   },
   "outputs": [],
   "source": [
    "A = [[4, 5, 6], [1, 2, 3]]"
   ]
  },
  {
   "cell_type": "code",
   "execution_count": 13,
   "metadata": {
    "collapsed": false
   },
   "outputs": [],
   "source": [
    "echange_ligne(A, 0, 1)"
   ]
  },
  {
   "cell_type": "code",
   "execution_count": 8,
   "metadata": {
    "collapsed": false
   },
   "outputs": [
    {
     "data": {
      "text/plain": [
       "[[1, 2, 3], [4, 5, 6]]"
      ]
     },
     "execution_count": 8,
     "metadata": {},
     "output_type": "execute_result"
    }
   ],
   "source": [
    "A"
   ]
  },
  {
   "cell_type": "code",
   "execution_count": 14,
   "metadata": {
    "collapsed": true
   },
   "outputs": [],
   "source": [
    "transvection(A, 1, 0, -4)"
   ]
  },
  {
   "cell_type": "code",
   "execution_count": 15,
   "metadata": {
    "collapsed": false
   },
   "outputs": [
    {
     "data": {
      "text/plain": [
       "[[1, 2, 3], [0, -3, -6]]"
      ]
     },
     "execution_count": 15,
     "metadata": {},
     "output_type": "execute_result"
    }
   ],
   "source": [
    "A"
   ]
  },
  {
   "cell_type": "code",
   "execution_count": 22,
   "metadata": {
    "collapsed": true
   },
   "outputs": [],
   "source": [
    "def pivot_partiel(A, j0):\n",
    "    imax, cmax = j0, abs(A[j0][j0])\n",
    "    for j in range(j0 + 1, len(A)):\n",
    "        c = abs(A[j][j0])\n",
    "        if c > cmax:\n",
    "            imax, cmax = j, c\n",
    "    return imax    "
   ]
  },
  {
   "cell_type": "code",
   "execution_count": 18,
   "metadata": {
    "collapsed": true
   },
   "outputs": [],
   "source": [
    "A = [[1, 2, 3, 4], [0, 1, 3, 5], [0, -4, 1, 0], [0, 3, 0, 0]]"
   ]
  },
  {
   "cell_type": "code",
   "execution_count": 23,
   "metadata": {
    "collapsed": false
   },
   "outputs": [
    {
     "data": {
      "text/plain": [
       "2"
      ]
     },
     "execution_count": 23,
     "metadata": {},
     "output_type": "execute_result"
    }
   ],
   "source": [
    "pivot_partiel(A, 1)"
   ]
  },
  {
   "cell_type": "code",
   "execution_count": 48,
   "metadata": {
    "collapsed": true
   },
   "outputs": [],
   "source": [
    "def resolution_systeme2(A0, y0):\n",
    "    #copie de A0 matrice augmentée de la colonne y0\n",
    "    n = len(A0)\n",
    "    A = [ A0[k][:] + y0[k] for k in range(n)]    \n",
    "    #A0 supposée de Cramer avec donc n pivots\n",
    "    for i in range(n - 1):\n",
    "        j = pivot_partiel(A, i)       #recherche de la ligne du pivot partiel\n",
    "        echange_ligne(A, i, j)  \n",
    "        pivot = A[i][i]\n",
    "        #tranvections pour mettre des zeros dans la colonne en-dessous du pivot\n",
    "        for k in range(i + 1, n):\n",
    "            transvection(A, k, i, - A[k][i]/pivot)\n",
    "    #phase de remontée\n",
    "    x = [[0] for _ in range(n)]\n",
    "    for i in range(n - 1, -1, -1):\n",
    "        x[i] = [(A[i][-1] - sum(A[i][j] * x[j][0] for j in range(i + 1, n)))/ A[i][i]]\n",
    "    return x"
   ]
  },
  {
   "cell_type": "code",
   "execution_count": 47,
   "metadata": {
    "collapsed": false
   },
   "outputs": [
    {
     "data": {
      "text/plain": [
       "[[-2.0], [3.0000000000000004]]"
      ]
     },
     "execution_count": 47,
     "metadata": {},
     "output_type": "execute_result"
    }
   ],
   "source": [
    "resolution_systeme([[2, 3],[5,-2]],[[5], [-16]])"
   ]
  },
  {
   "cell_type": "code",
   "execution_count": 133,
   "metadata": {
    "collapsed": false
   },
   "outputs": [],
   "source": [
    "import numpy as np\n",
    "\n",
    "def inversion_matrice2(A0):\n",
    "    #Copie de A0 augmentée de la matrice identité\n",
    "    n = len(A0)    \n",
    "    A = np.array([A0[k][:] + [ 1 if j == k else 0 for j in range(n)]\n",
    "                  for k in range(len(A0))], dtype='float64')\n",
    "    for i in range(n - 1):\n",
    "        j = pivot_partiel(A, i)       #recherche de la ligne du pivot partiel\n",
    "        echange_ligne(A, i, j)  \n",
    "        pivot = A[i][i]\n",
    "        #transvections\n",
    "        for k in range(i + 1, n):\n",
    "            A[k] -= A[i] * (A[k][i] /pivot)\n",
    "    #phase de remontée    \n",
    "    for i in range(n - 1, -1, -1): \n",
    "        A[i] =  (1/A[i][i]) * (A[i] - sum(A[j] * A[i][j] for j in range(i + 1, n)))       \n",
    "    return A[:,n:]"
   ]
  },
  {
   "cell_type": "code",
   "execution_count": 53,
   "metadata": {
    "collapsed": true
   },
   "outputs": [],
   "source": [
    "A3 = [[1, 2, 3], [4, 5, 6], [7, 8, 9]]\n",
    "A4 = [[1, 1./4, 1], [1, 1./3, 2], [0, 1, 12]]\n",
    "A5 = [[1,1.+10**5,1],[1,1+10**(-5),2],[0,10**5,-1]]\n",
    "A6 = [[1,10**15,1],[1,10**(-2),2],[0,10**15,-1]]"
   ]
  },
  {
   "cell_type": "code",
   "execution_count": 130,
   "metadata": {
    "collapsed": false
   },
   "outputs": [
    {
     "data": {
      "text/plain": [
       "array([[ 1.        , -0.66666667],\n",
       "       [ 0.        ,  0.33333333]])"
      ]
     },
     "execution_count": 130,
     "metadata": {},
     "output_type": "execute_result"
    }
   ],
   "source": [
    "inversion_matrice2([[1,2],[0,3]])"
   ]
  },
  {
   "cell_type": "code",
   "execution_count": 134,
   "metadata": {
    "collapsed": false
   },
   "outputs": [
    {
     "data": {
      "text/plain": [
       "array([[ 0.5, -1. , -4.5],\n",
       "       [ 0. ,  1. ,  6. ],\n",
       "       [ 0. ,  0. ,  1. ]])"
      ]
     },
     "execution_count": 134,
     "metadata": {},
     "output_type": "execute_result"
    }
   ],
   "source": [
    "inversion_matrice2([[2,2,-3],[0,1,-6],[0,0,1]])"
   ]
  }
 ],
 "metadata": {
  "kernelspec": {
   "display_name": "Python 3",
   "language": "python",
   "name": "python3"
  },
  "language_info": {
   "codemirror_mode": {
    "name": "ipython",
    "version": 3
   },
   "file_extension": ".py",
   "mimetype": "text/x-python",
   "name": "python",
   "nbconvert_exporter": "python",
   "pygments_lexer": "ipython3",
   "version": "3.5.2"
  }
 },
 "nbformat": 4,
 "nbformat_minor": 2
}
